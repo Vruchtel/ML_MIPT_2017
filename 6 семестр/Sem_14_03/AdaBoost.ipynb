{
 "cells": [
  {
   "cell_type": "markdown",
   "metadata": {},
   "source": [
    "# Ada Boost"
   ]
  },
  {
   "cell_type": "code",
   "execution_count": 1,
   "metadata": {
    "collapsed": false
   },
   "outputs": [
    {
     "name": "stderr",
     "output_type": "stream",
     "text": [
      "/home/serafima/anaconda3/lib/python3.6/site-packages/sklearn/cross_validation.py:44: DeprecationWarning: This module was deprecated in version 0.18 in favor of the model_selection module into which all the refactored classes and functions are moved. Also note that the interface of the new CV iterators are different from that of this module. This module will be removed in 0.20.\n",
      "  \"This module will be removed in 0.20.\", DeprecationWarning)\n"
     ]
    }
   ],
   "source": [
    "import pandas as pd\n",
    "import numpy as np\n",
    "from sklearn.tree import DecisionTreeClassifier\n",
    "from sklearn.cross_validation import train_test_split\n",
    "from sklearn.datasets import make_hastie_10_2\n",
    "import matplotlib.pyplot as plt"
   ]
  },
  {
   "cell_type": "code",
   "execution_count": 2,
   "metadata": {
    "collapsed": false
   },
   "outputs": [],
   "source": [
    "# Считает ошибку\n",
    "def get_error_rate(pred, Y):\n",
    "    return sum(pred != Y) / float(len(Y))\n",
    "\n",
    "def print_error_rate(err):\n",
    "    print('Error rate: Training: %.4f - Test: %.4f' % err)\n",
    "\n",
    "def generic_clf(Y_train, X_train, Y_test, X_test, clf):\n",
    "    clf.fit(X_train,Y_train)\n",
    "    pred_train = clf.predict(X_train)\n",
    "    pred_test = clf.predict(X_test)\n",
    "    return get_error_rate(pred_train, Y_train), \\\n",
    "           get_error_rate(pred_test, Y_test)\n",
    "    \n",
    "# График для ошибки после обучения алгоритма\n",
    "def plot_error_rate(er_train, er_test):\n",
    "    df_error = pd.DataFrame([er_train, er_test]).T\n",
    "    df_error.columns = ['Training', 'Test']\n",
    "    plot1 = df_error.plot(linewidth = 3, figsize = (8,6),\n",
    "            color = ['lightblue', 'darkblue'], grid = True)\n",
    "    plot1.set_xlabel('Number of iterations', fontsize = 12)\n",
    "    plot1.set_xticklabels(range(0,450,50))\n",
    "    plot1.set_ylabel('Error rate', fontsize = 12)\n",
    "    plot1.set_title('Error rate vs number of iterations', fontsize = 16)\n",
    "    plt.axhline(y=er_test[0], linewidth=1, color = 'red', ls = 'dashed')"
   ]
  },
  {
   "cell_type": "markdown",
   "metadata": {},
   "source": [
    "Ada boost implementation:"
   ]
  },
  {
   "cell_type": "code",
   "execution_count": 3,
   "metadata": {
    "collapsed": true
   },
   "outputs": [],
   "source": [
    "def adaboost_clf(Y_train, X_train, Y_test, X_test, M, clf):\n",
    "    n_train, n_test = len(X_train), len(X_test)\n",
    "    # Initialize weights (1 поделить на размер выборки)\n",
    "    w = np.array([1. / n_train for elem in range(n_train)]) # my code\n",
    "    #w = np.ones(n_train)\n",
    "    #print(type(w))\n",
    "    #print(w)\n",
    "    \n",
    "    pred_train, pred_test = [np.zeros(n_train), np.zeros(n_test)]\n",
    "    \n",
    "    for i in range(M):  # M - количество деревьев\n",
    "        #print(i)\n",
    "        # Fit a classifier with the specific weights\n",
    "        #<YOUR CODE HERE> sample weights\n",
    "        clf.fit(X_train, Y_train, sample_weight=w)\n",
    "        pred_train_i = clf.predict(X_train)  # my code\n",
    "        pred_test_i = clf.predict(X_test)  # my code\n",
    "        \n",
    "        # Indicator function\n",
    "        miss = [int(x) for x in (pred_train_i != Y_train)]\n",
    "        # Equivalent with 1/-1 to update weights\n",
    "        miss2 = [x if x==1 else -1 for x in miss]\n",
    "        # Error\n",
    "        err_m = np.dot(w,miss) / sum(w)\n",
    "        # Alpha (гамма в тетради)\n",
    "        alpha_m = np.log((1. - err_m) / err_m) / 2.  # my code\n",
    "        # New weights (+отнормировать веса)\n",
    "        # ....\n",
    "        \n",
    "        w = (w * np.exp(alpha_m * Y_train * pred_train+i)) / sum(w)  #my code\n",
    "        w = np.array(w)\n",
    "        #print(type(w))\n",
    "        \n",
    "        # Add to prediction\n",
    "        pred_train = [sum(x) for x in zip(pred_train, \n",
    "                                          [x * alpha_m for x in pred_train_i])]\n",
    "        pred_test = [sum(x) for x in zip(pred_test, \n",
    "                                         [x * alpha_m for x in pred_test_i])]\n",
    "    \n",
    "    pred_train, pred_test = np.sign(pred_train), np.sign(pred_test)\n",
    "    # Return error rate in train and test set\n",
    "    return get_error_rate(pred_train, Y_train), \\\n",
    "           get_error_rate(pred_test, Y_test)\n",
    "\n"
   ]
  },
  {
   "cell_type": "markdown",
   "metadata": {},
   "source": [
    "Чтение входных данных:"
   ]
  },
  {
   "cell_type": "code",
   "execution_count": 4,
   "metadata": {
    "collapsed": true
   },
   "outputs": [],
   "source": [
    "x, y = make_hastie_10_2()\n",
    "df = pd.DataFrame(x)\n",
    "df['Y'] = y"
   ]
  },
  {
   "cell_type": "markdown",
   "metadata": {},
   "source": [
    "Делим данные на train и test:"
   ]
  },
  {
   "cell_type": "code",
   "execution_count": 5,
   "metadata": {
    "collapsed": false
   },
   "outputs": [],
   "source": [
    "train, test = train_test_split(df, test_size = 0.2)\n",
    "X_train, Y_train = train.ix[:,:-1], train.ix[:,-1]\n",
    "X_test, Y_test = test.ix[:,:-1], test.ix[:,-1]"
   ]
  },
  {
   "cell_type": "markdown",
   "metadata": {},
   "source": [
    "Обучаем решающее дерево:"
   ]
  },
  {
   "cell_type": "code",
   "execution_count": 6,
   "metadata": {
    "collapsed": true
   },
   "outputs": [],
   "source": [
    "clf_tree = DecisionTreeClassifier(max_depth = 1, random_state = 1)\n",
    "er_tree = generic_clf(Y_train, X_train, Y_test, X_test, clf_tree)"
   ]
  },
  {
   "cell_type": "code",
   "execution_count": 9,
   "metadata": {
    "collapsed": false,
    "scrolled": true
   },
   "outputs": [
    {
     "name": "stderr",
     "output_type": "stream",
     "text": [
      "/home/serafima/anaconda3/lib/python3.6/site-packages/ipykernel/__main__.py:30: RuntimeWarning: overflow encountered in exp\n",
      "/home/serafima/anaconda3/lib/python3.6/site-packages/sklearn/tree/tree.py:280: RuntimeWarning: invalid value encountered in double_scalars\n",
      "  np.sum(sample_weight))\n"
     ]
    }
   ],
   "source": [
    "er_train, er_test = [er_tree[0]], [er_tree[1]]\n",
    "x_range = range(10, 500, 10)\n",
    "for i in x_range:    \n",
    "    er_i = adaboost_clf(Y_train, X_train, Y_test, X_test, i, clf_tree)\n",
    "    er_train.append(er_i[0])\n",
    "    er_test.append(er_i[1])"
   ]
  },
  {
   "cell_type": "code",
   "execution_count": 10,
   "metadata": {
    "collapsed": false
   },
   "outputs": [
    {
     "data": {
      "image/png": "[encoded data removed]",
      "text/plain": [
       "<matplotlib.figure.Figure at 0x7fcc07685d30>"
      ]
     },
     "metadata": {},
     "output_type": "display_data"
    }
   ],
   "source": [
    "plot_error_rate(er_train, er_test)\n",
    "plt.show()\n"
   ]
  },
  {
   "cell_type": "code",
   "execution_count": null,
   "metadata": {
    "collapsed": true
   },
   "outputs": [],
   "source": []
  }
 ],
 "metadata": {
  "kernelspec": {
   "display_name": "Python 3",
   "language": "python",
   "name": "python3"
  },
  "language_info": {
   "codemirror_mode": {
    "name": "ipython",
    "version": 3
   },
   "file_extension": ".py",
   "mimetype": "text/x-python",
   "name": "python",
   "nbconvert_exporter": "python",
   "pygments_lexer": "ipython3",
   "version": "3.6.0"
  }
 },
 "nbformat": 4,
 "nbformat_minor": 0
}
