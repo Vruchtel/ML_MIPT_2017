{
 "cells": [
  {
   "cell_type": "markdown",
   "metadata": {},
   "source": [
    "### Вручтель Серафима. 495. Unsupervised decision tree."
   ]
  },
  {
   "cell_type": "markdown",
   "metadata": {},
   "source": [
    "В задании необходимо убедиться, что выражение $H(S) = \\frac{1}{2} ln(2 \\pi e)^n |\\Sigma| $ задаёт энтропию многомерного нормального распределения."
   ]
  },
  {
   "cell_type": "markdown",
   "metadata": {},
   "source": [
    "Определение энтропии: $H(S) = -\\int_{-\\infty}^{+\\infty} \\dots \\int_{-\\infty}^{+\\infty} f(x)\\ln f(x) dx $, где $f(x)$ - плотность многомерного распределения.\n",
    "\n",
    "Плотность многомерного нормального распределения:  $f(x) = \\frac{1}{(2 \\pi)^{n/2} |\\Sigma|^{1/2}} e ^ {-\\frac{1}{2} (x - \\mu)^T \\Sigma^{-1} (x - \\mu)} = ((2 \\pi)^n |\\Sigma|)^{-1/2} e^{-\\frac{1}{2} (x - \\mu)^T \\Sigma^{-1}(x - \\mu)}$.\n"
   ]
  },
  {
   "cell_type": "markdown",
   "metadata": {},
   "source": [
    "Преобразуем выражение:\n",
    "\n",
    "$\\ln f(x) = -\\frac{1}{2} \\ln((2 \\pi)^n |\\Sigma|) - \\frac{1}{2} (x - \\mu)^T \\Sigma^{-1}(x - \\mu)$,\n",
    "\n",
    "$\\frac{1}{2} \\ln((2 \\pi)^n |\\Sigma|) = const$,\n",
    "\n",
    "$\\int_{-\\infty}^{+\\infty}  \\dots \\int_{-\\infty}^{+\\infty} f(x) dx = 1 $."
   ]
  },
  {
   "cell_type": "markdown",
   "metadata": {},
   "source": [
    "Тогда получаем:\n",
    "\n",
    "$H(S) = \\frac{1}{2} \\ln((2 \\pi)^n |\\Sigma|) + \\int_{-\\infty}^{+\\infty}  \\dots \\int_{-\\infty}^{+\\infty} \\frac{1}{2}(x - \\mu)^T \\Sigma^{-1}(x - \\mu) f(x) dx$."
   ]
  },
  {
   "cell_type": "markdown",
   "metadata": {},
   "source": [
    "Сдвинем всё на $\\mu$:\n",
    "\n",
    "$\\int_{-\\infty}^{+\\infty}  \\dots \\int_{-\\infty}^{+\\infty} \\frac{1}{2}(x - \\mu)^T \\Sigma^{-1}(x - \\mu) f(x) dx = \\int_{-\\infty}^{+\\infty}  \\dots \\int_{-\\infty}^{+\\infty} \\frac{1}{2}x^T \\Sigma^{-1} x \\ f_0(x) dx = \\frac{1}{2|\\Sigma|} \\int_{-\\infty}^{+\\infty}  \\dots \\int_{-\\infty}^{+\\infty} f_0(x) \\Sigma_{i,j=1}^{n} x_i x_j \\Sigma^{i,j} dx = \\frac{1}{2|\\Sigma|} \\Sigma_{i = 1}^{n} \\Sigma_{i,j} \\Sigma^{i,j} = \\frac{1}{2|\\Sigma|} \\Sigma_{i = 1}^{n} |\\Sigma| = \\frac{n}{2}$.\n",
    "\n",
    "Здесь $\\Sigma_{i,j}$ - элементы матрицы ковариаций,\n",
    "\n",
    "$\\Sigma^{i,j}$ - алгебраическое дополнение."
   ]
  },
  {
   "cell_type": "markdown",
   "metadata": {},
   "source": [
    "$H(S) = \\frac{1}{2} \\ln ((2 \\pi)^n |\\Sigma|) + \\frac{n}{2} = \\frac{1}{2} \\ln ((2 \\pi)^n |\\Sigma|) + \\frac{1}{2} \\ln(e^n) = \\frac{1}{2} \\ln ((2 \\pi e)^n |\\Sigma|)$"
   ]
  },
  {
   "cell_type": "markdown",
   "metadata": {},
   "source": [
    "Что и требовалось."
   ]
  }
 ],
 "metadata": {
  "kernelspec": {
   "display_name": "Python 3",
   "language": "python",
   "name": "python3"
  },
  "language_info": {
   "codemirror_mode": {
    "name": "ipython",
    "version": 3
   },
   "file_extension": ".py",
   "mimetype": "text/x-python",
   "name": "python",
   "nbconvert_exporter": "python",
   "pygments_lexer": "ipython3",
   "version": "3.6.0"
  }
 },
 "nbformat": 4,
 "nbformat_minor": 2
}
