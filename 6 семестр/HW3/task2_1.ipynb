{
 "cells": [
  {
   "cell_type": "markdown",
   "metadata": {},
   "source": [
    "## Вручтель Серафима. 495 группа. Bias-variance-noise decomposition."
   ]
  },
  {
   "cell_type": "markdown",
   "metadata": {},
   "source": [
    "Необходимо показать справедливость Bias-variance-noise decomposition:\n",
    "\n",
    "${\\mathbb E}_{x,y} {\\mathbb E}_{X^l} (y - a_{X^l}(x))^2 = {\\mathbb E}_{x,y} (y - {\\mathbb E(y|x)})^2 + {\\mathbb E}_{x,y} ({\\mathbb E(y|x)} - {\\mathbb E}_{X^l}a_{X^l}(x))^2 + {\\mathbb E}_{x,y} {\\mathbb E}_{X^l} (a_{X^l}(x) - {\\mathbb E}_{X^l}a_{X^l}(x))^2$,\n",
    "\n",
    "где первое слагаемое в разложении называется шумом (noise), второе смещением (bias), а третье разбросом (variance). \n"
   ]
  },
  {
   "cell_type": "markdown",
   "metadata": {},
   "source": [
    " "
   ]
  },
  {
   "cell_type": "markdown",
   "metadata": {},
   "source": [
    "Нам задана выборка $X^l = \\{x_1, \\cdots, x_l\\} \\subset \\mathbb{X}$ и вещественные ответы на этой выборке $\\{y_1, ..., y_l\\} \\subset \\mathbb{Y} \\subset \\mathbb{R}$ (рассматриваем задачу регрессии). Пусть выборка $X^l$ и ответы $y$ сгенерированы из некоторого распределения с плотностью $p(x, y)$ на $\\mathbb{X} \\times \\mathbb{Y}$.\n",
    "\n",
    "Рассмотрим квадратичную функцию потерь: $L(y, a) = (y - a(x))^2(y - a(x))^2$.\n",
    "\n",
    "Соответствующий её среднеквадратичный риск: $R(a) = {\\mathbb E} (y - a(x))^2 = \\int_{\\mathbb X} \\int_{\\mathbb Y} p(x, y) (y - a(x))^2 dx dy$."
   ]
  },
  {
   "cell_type": "markdown",
   "metadata": {},
   "source": [
    " "
   ]
  },
  {
   "cell_type": "markdown",
   "metadata": {},
   "source": [
    "Минимум среднеквадратичного риска достигается на функции, возвращающей условное матожидание ответа при фиксированной выборке, то есть:\n",
    "\n",
    "$argmin_a R(a) = a^*(x) = {\\mathbb E}(y|x) = \\int_{\\mathbb Y}y p(x|y) dx$."
   ]
  },
  {
   "cell_type": "markdown",
   "metadata": {},
   "source": [
    " "
   ]
  },
  {
   "cell_type": "markdown",
   "metadata": {},
   "source": [
    "Пусть $\\mu : 2^\\mathbb{X} \\to A$ - некоторый метод обучения, который произвольной конечной обучающей выборке ставит в соответствие некоторый алгоритм из семейства $A$.\n",
    "\n",
    "Обозначим $a_{X^l} = \\mu(X^l)$.\n",
    "\n",
    "Мерой качества метода обучения будет усреднённый по всем выборкам среднеквадратичный риск алгоритма выбранного методом по выборке:\n",
    "\n",
    "$L(\\mu) = \\mathbb{E}_{X^l} [\\mathbb{E}_{x,y}(y - a_{X^l}(x))^2]$"
   ]
  },
  {
   "cell_type": "markdown",
   "metadata": {},
   "source": [
    " "
   ]
  },
  {
   "cell_type": "markdown",
   "metadata": {},
   "source": [
    "Преобразуем среднеквадратичный риск $R(a)$ для фиксированного алгоритма $a$. Для этого сначала преобразуем функцию потерь:\n",
    "\n",
    "$L(y, a(x)) = (y - a(x))^2 = (y - \\mathbb{E}(y|x) + \\mathbb{E}(y|x) - a(x))^2 = (y - \\mathbb{E}(y|x))^2  + 2 (y - \\mathbb{E}(y|x)) (\\mathbb{E}(y|x) - a(x)) + (\\mathbb{E}(y|x) - a(x))^2$.\n",
    "\n",
    "Подставим теперь функцию потерь в среднеквадратичный риск:\n",
    "\n",
    "$R(a) = \\int_{\\mathbb X} \\int_{\\mathbb Y} L(y, a(x)) p(x, y) dx dy =$\n",
    "\n",
    "$=\\int_{\\mathbb Y} \\int_{\\mathbb X} (y - \\mathbb{E}(t|x))^2 p(x, y) dx dy + \\int_{\\mathbb Y} \\int_{\\mathbb X} (\\mathbb{E}(t|x) - a(x))^2 p(x, y) dx dy + 2 \\int_{\\mathbb Y} \\int_{\\mathbb X} (y - \\mathbb{E}(t|x)) (\\mathbb{E}(t|x) - a(x)) p(x, y)dx dy$ ."
   ]
  },
  {
   "cell_type": "markdown",
   "metadata": {},
   "source": [
    "Разберёмся с последним слагаемым.\n",
    "\n",
    "Заметим, что величина $(\\mathbb{E}(t|x) - a(x))$ не зависит от $y$, и поэтому её можно вынести за интеграл по $y$:\n",
    "\n",
    "$\\int_{\\mathbb Y} \\int_{\\mathbb X} (y - \\mathbb{E}(t|x)) (\\mathbb{E}(t|x) - a(x)) p(x, y) dx dy = $\n",
    "\n",
    "$ = \\int_{\\mathbb X} (\\mathbb{E}(t|x) - a(x)) \\int_{\\mathbb Y} (y - \\mathbb{E}(t|x)) p(x, y) dy dx = $\n",
    "\n",
    "$ = \\int_{\\mathbb X} (\\mathbb{E}(t|x) - a(x)) \\left\\{ \\int_{\\mathbb Y} y p(x, y) dy - \\int_{\\mathbb Y} \\mathbb{E}(t|x) p(x, y) dy \\right\\} dx = $\n",
    "\n",
    "$ = \\int_{\\mathbb X} (\\mathbb{E}(t|x) - a(x)) \\left\\{ p(x) \\int_{\\mathbb Y} y p(x, y) dy - \\mathbb{E}(t|x) \\int_{\\mathbb Y} p(x, y) dy \\right\\} dx = $\n",
    "\n",
    "$ = \\int_{\\mathbb X} (\\mathbb{E}(t|x) - a(x)) \\left\\{ p(x) \\mathbb{E}(t|x) - p(x) \\mathbb{E}(t|x) \\right\\} dx = 0$ ."
   ]
  },
  {
   "cell_type": "markdown",
   "metadata": {},
   "source": [
    "Получаем, что функционал среднеквадратичного риска имеет вид:\n",
    "\n",
    "$R(a) = \\int_{\\mathbb Y} \\int_{\\mathbb X} (y - \\mathbb{E}(t|x))^2 p(x, y) dx dy + \\int_{\\mathbb Y} \\int_{\\mathbb X} (\\mathbb{E}(t|x) - a(x))^2 p(x, y) dx dy$ .\n",
    "\n",
    "То есть:\n",
    "\n",
    "$R(a_{X^l}(x)) = \\mathbb{E}_{x, y}(y - a_{X^l}(x))^2 = \\mathbb{E}_{x, y}(y - \\mathbb{E}(y|x))^2 + \\mathbb{E}_{x, y}(\\mathbb{E}(y|x) - a_{X^l}(x))^2$ ."
   ]
  },
  {
   "cell_type": "markdown",
   "metadata": {},
   "source": [
    " "
   ]
  },
  {
   "cell_type": "markdown",
   "metadata": {},
   "source": [
    "Подставим полученное выражение в меру качества $L(\\mu)$ :\n",
    "\n",
    "$L(\\mu) = \\mathbb{E}_{X^l} \\left[ \\mathbb{E}_{x, y}(y - \\mathbb{E}(y|x))^2 + \\mathbb{E}_{x, y}(\\mathbb{E}(y|x) - a_{X^l}(x))^2 \\right] = $\n",
    "\n",
    "первое слагаемое в квадратных скобках не зависит от $X^l$\n",
    "\n",
    "$ = \\mathbb{E}_{x, y}(y - \\mathbb{E}(y|x))^2 + \\mathbb{E}_{x, y} \\mathbb{E}_{X^l} \\left[(\\mathbb{E}(y|x) - a_{X^l}(x))^2 \\right]$.\n",
    "\n",
    "Преобразуем второе слагаемое:\n",
    "\n",
    "$\\mathbb{E}_{x, y} \\mathbb{E}_{X^l} \\left[(\\mathbb{E}(y|x) - a_{X^l}(x))^2 \\right] = $\n",
    "\n",
    "$ = \\mathbb{E}_{x, y} \\mathbb{E}_{X^l} \\left[ (\\mathbb{E}(y|x) - \\mathbb{E}_{X^l}a_{X^l}(x) + \\mathbb{E}_{X^l}a_{X^l}(x) - a_{X^l}(x))^2 \\right] = $\n",
    "\n",
    "$ = \\mathbb{E}_{x, y} \\mathbb{E}_{X^l} \\left[ (\\mathbb{E}(y|x) - \\mathbb{E}_{X^l}a_{X^l}(x))^2 \\right] + \\mathbb{E}_{x, y} \\mathbb{E}_{X^l} \\left[ (\\mathbb{E}_{X^l}a_{X^l}(x) - a_{X^l}(x))^2 \\right] + 2 \\mathbb{E}_{x, y} \\mathbb{E}_{X^l} \\left[ (\\mathbb{E}(y|x) - \\mathbb{E}_{X^l}a_{X^l}(x)) (\\mathbb{E}_{X^l}a_{X^l}(x) - a_{X^l}(x)) \\right] = $\n",
    "\n",
    "$ = \\mathbb{E}_{x, y} \\left[ (\\mathbb{E}(y|x) - \\mathbb{E}_{X^l}a_{X^l}(x))^2 \\right] + \\mathbb{E}_{x, y} \\mathbb{E}_{X^l} \\left[ (\\mathbb{E}_{X^l}a_{X^l}(x) - a_{X^l}(x))^2 \\right] + 2 \\mathbb{E}_{x, y} \\mathbb{E}_{X^l} \\left[ (\\mathbb{E}(y|x) - \\mathbb{E}_{X^l}a_{X^l}(x)) (\\mathbb{E}_{X^l}a_{X^l}(x) - a_{X^l}(x)) \\right] $ .\n",
    "\n",
    "Покажем, что последнее слагаемое в этой сумме обращается в нуль:\n",
    "\n",
    "$\\mathbb{E}_{X^l} \\left[ (\\mathbb{E}(y|x) - \\mathbb{E}_{X^l}a_{X^l}(x)) (\\mathbb{E}_{X^l}a_{X^l}(x) - a_{X^l}(x)) \\right] = $\n",
    "\n",
    "$ = (\\mathbb{E}(y|x) - \\mathbb{E}_{X^l}a_{X^l}(x)) \\mathbb{E}_{X^l} \\left[ (\\mathbb{E}_{X^l}a_{X^l}(x) - a_{X^l}(x)) \\right] = $\n",
    "\n",
    "$ = (\\mathbb{E}(y|x) - \\mathbb{E}_{X^l}a_{X^l}(x)) \\left[ \\mathbb{E}_{X^l}a_{X^l}(x) - \\mathbb{E}_{X^l}a_{X^l}(x) \\right] = 0$ ."
   ]
  },
  {
   "cell_type": "markdown",
   "metadata": {},
   "source": [
    " "
   ]
  },
  {
   "cell_type": "markdown",
   "metadata": {},
   "source": [
    "Получаем:\n",
    "\n",
    "$L(\\mu) = \\mathbb{E}_{x, y} \\left[y - \\mathbb{E}(y|x)\\right]^2 + \\mathbb{E}_{x, y} \\left[ (\\mathbb{E}(y|x) - \\mathbb{E}_{X^l}a_{X^l}(x))^2 \\right] + \\mathbb{E}_{x, y} \\mathbb{E}_{X^l} \\left[ (\\mathbb{E}_{X^l}a_{X^l}(x) - a_{X^l}(x))^2 \\right]$\n"
   ]
  },
  {
   "cell_type": "markdown",
   "metadata": {},
   "source": [
    " \n"
   ]
  },
  {
   "cell_type": "markdown",
   "metadata": {},
   "source": [
    "То есть:\n",
    "\n",
    "${\\mathbb E}_{x,y} {\\mathbb E}_{X^l} (y - a_{X^l}(x))^2 = {\\mathbb E}_{x,y} (y - {\\mathbb E(y|x)})^2 + {\\mathbb E}_{x,y} ({\\mathbb E(y|x)} - {\\mathbb E}_{X^l}a_{X^l}(x))^2 + {\\mathbb E}_{x,y} {\\mathbb E}_{X^l} (a_{X^l}(x) - {\\mathbb E}_{X^l}a_{X^l}(x))^2$,\n",
    "\n",
    "что и требовалось."
   ]
  }
 ],
 "metadata": {
  "kernelspec": {
   "display_name": "Python 3",
   "language": "python",
   "name": "python3"
  },
  "language_info": {
   "codemirror_mode": {
    "name": "ipython",
    "version": 3
   },
   "file_extension": ".py",
   "mimetype": "text/x-python",
   "name": "python",
   "nbconvert_exporter": "python",
   "pygments_lexer": "ipython3",
   "version": "3.6.0"
  }
 },
 "nbformat": 4,
 "nbformat_minor": 2
}
