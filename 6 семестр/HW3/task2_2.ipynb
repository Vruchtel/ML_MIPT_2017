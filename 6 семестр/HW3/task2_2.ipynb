{
 "cells": [
  {
   "cell_type": "markdown",
   "metadata": {},
   "source": [
    "## Вручтель Серафима. 495 группа.Смещение и разброс в бэггинге."
   ]
  },
  {
   "cell_type": "markdown",
   "metadata": {},
   "source": [
    "Необходимо выяснить, как соотносятся смещение и разброс для композиции с теми же параметрами для базовых алгоритмов, если композиция строится с помощью бэггинга:\n",
    "\n",
    "$a(x) = \\frac{1}{M} \\Sigma_{m = 1}^{M} a_m(x)$ ,\n",
    "\n",
    "считая что ответы всех базовых алгоритмов распределены одинаково."
   ]
  },
  {
   "cell_type": "markdown",
   "metadata": {},
   "source": [
    " "
   ]
  },
  {
   "cell_type": "markdown",
   "metadata": {},
   "source": [
    "***Найдём смещение:***"
   ]
  },
  {
   "cell_type": "markdown",
   "metadata": {},
   "source": [
    "${\\mathbb E}_{x,y} ({\\mathbb E(y|x)} - {\\mathbb E}_{X^l}a_{X^l}(x))^2 = {\\mathbb E}_{x,y} \\left({\\mathbb E(y|x)} - {\\mathbb E}_{X^l} \\left[\\frac{1}{M} \\Sigma_{m = 1}^{M} a_m(x) \\right]\\right)^2 = $\n",
    "\n",
    "$ = {\\mathbb E}_{x,y} \\left( \\frac{1}{M} \\Sigma_{m = 1}^{M} {\\mathbb E}_{X^l} \\left[a_m(x) - {\\mathbb E(y|x)} \\right]\\right)^2 = $\n",
    "\n",
    "$ = {\\mathbb E}_{x,y} \\left({\\mathbb E}_{X^l} \\left[a_m(x) - {\\mathbb E(y|x)} \\right]\\right)^2 = $\n",
    "\n",
    "$ = {\\mathbb E}_{x,y} \\left({\\mathbb E}_{X^l} \\left[a_m(x) \\right] - {\\mathbb E(y|x)} \\right)^2 $ ."
   ]
  },
  {
   "cell_type": "markdown",
   "metadata": {},
   "source": [
    "Получили, что смещение для композиции совпадает со смещением для одного базового алгоритма."
   ]
  },
  {
   "cell_type": "markdown",
   "metadata": {},
   "source": [
    " "
   ]
  },
  {
   "cell_type": "markdown",
   "metadata": {},
   "source": [
    "***Найдём разброс:***"
   ]
  },
  {
   "cell_type": "markdown",
   "metadata": {},
   "source": [
    "${\\mathbb E}_{x,y} {\\mathbb E}_{X^l} (a_{X^l}(x) - {\\mathbb E}_{X^l}a_{X^l}(x))^2 = \n",
    "{\\mathbb E}_{x,y} {\\mathbb E}_{X^l} \\left(\\frac{1}{M} \\Sigma_{m = 1}^{M} a_m(x) - {\\mathbb E}_{X^l}\\frac{1}{M} \\Sigma_{m = 1}^{M} a_m(x)\\right)^2$ ."
   ]
  },
  {
   "cell_type": "markdown",
   "metadata": {},
   "source": [
    "Рассмотрим выражение, стоящее под матожиданиями:\n",
    "\n",
    "$\\left(\\frac{1}{M} \\Sigma_{m = 1}^{M} a_m(x) - {\\mathbb E}_{X^l} \\left[ \\frac{1}{M} \\Sigma_{m = 1}^{M} a_m(x) \\right] \\right)^2 = $\n",
    "\n",
    "$ = \\frac{1}{M^2} \\left( \\Sigma_{m = 1}^{M} \\left[ a_m(x) - {\\mathbb E}_{X^l} a_m(x) \\right] \\right)^2 = $\n",
    "\n",
    "$ = \\frac{1}{M^2} \\Sigma_{m = 1}^{M} \\left( a_m(x) - {\\mathbb E}_{X^l} a_m(x) \\right)^2 + \n",
    "\\frac{1}{M^2} \\Sigma_{m \\ne n} \\left( a_m(x) - {\\mathbb E}_{X^l} a_m(x) \\right) \\left( a_n(x) - {\\mathbb E}_{X^l} a_n(x) \\right)$\n"
   ]
  },
  {
   "cell_type": "markdown",
   "metadata": {},
   "source": [
    "Теперь возьмём матожидания от этого выражения:\n",
    "\n",
    "${\\mathbb E}_{x,y} {\\mathbb E}_{X^l} \\left[ \\frac{1}{M^2} \\Sigma_{m = 1}^{M} \\left( a_m(x) - {\\mathbb E}_{X^l} a_m(x) \\right)^2 + \n",
    "\\frac{1}{M^2} \\Sigma_{m \\ne n} \\left( a_m(x) - {\\mathbb E}_{X^l} a_m(x) \\right) \\left( a_n(x) - {\\mathbb E}_{X^l} a_n(x) \\right) \\right] = $\n",
    "\n",
    "$ = \\frac{1}{M^2} {\\mathbb E}_{x,y} {\\mathbb E}_{X^l} \\left[ \\Sigma_{m = 1}^{M} \\left( a_m(x) - {\\mathbb E}_{X^l} a_m(x) \\right)^2 \\right] + \n",
    "\\frac{1}{M^2} {\\mathbb E}_{x,y} {\\mathbb E}_{X^l} \\left[ \\Sigma_{m \\ne n} \\left( a_m(x) - {\\mathbb E}_{X^l} a_m(x) \\right) \\left( a_n(x) - {\\mathbb E}_{X^l} a_n(x) \\right) \\right] = $\n",
    "\n",
    "так как все базовые алгоритмы распределены одинаково, то получаем\n",
    "\n",
    "$ = \\frac{1}{M} {\\mathbb E}_{x,y} {\\mathbb E}_{X^l} \\left[\\left( a_m(x) - {\\mathbb E}_{X^l} a_m(x) \\right)^2 \\right] + \n",
    "\\frac{M(M - 1)}{M^2} {\\mathbb E}_{x,y} {\\mathbb E}_{X^l} \\left[ \\left( a_m(x) - {\\mathbb E}_{X^l} a_m(x) \\right) \\left( a_n(x) - {\\mathbb E}_{X^l} a_n(x) \\right) \\right]$ .\n",
    "\n",
    "Получаем здесь, что первое слагаемое - это дисперсия базового алгоритма, делённая на размер композиции, а второе слагаемое - ковариация между базовыми алгоритмами."
   ]
  }
 ],
 "metadata": {
  "kernelspec": {
   "display_name": "Python 3",
   "language": "python",
   "name": "python3"
  },
  "language_info": {
   "codemirror_mode": {
    "name": "ipython",
    "version": 3
   },
   "file_extension": ".py",
   "mimetype": "text/x-python",
   "name": "python",
   "nbconvert_exporter": "python",
   "pygments_lexer": "ipython3",
   "version": "3.6.0"
  }
 },
 "nbformat": 4,
 "nbformat_minor": 2
}
