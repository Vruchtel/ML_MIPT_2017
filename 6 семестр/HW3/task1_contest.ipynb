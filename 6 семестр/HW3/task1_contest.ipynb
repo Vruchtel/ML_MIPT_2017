{
 "cells": [
  {
   "cell_type": "markdown",
   "metadata": {},
   "source": [
    "## Вручтель Серафима, 495 группа, Контест на прогнозирование спроса."
   ]
  },
  {
   "cell_type": "markdown",
   "metadata": {},
   "source": [
    "# Большая просьба: не читайте, пожалуйста, что написано в этом ноутбуке до слова ОТЧЁТ, тут местами полнейший треш."
   ]
  },
  {
   "cell_type": "code",
   "execution_count": 249,
   "metadata": {
    "collapsed": false
   },
   "outputs": [],
   "source": [
    "import pandas as pd\n",
    "\n",
    "train = pd.read_csv(\"train.tsv\")\n",
    "test = pd.read_csv(\"test.tsv\")\n",
    "sample_submission = pd.read_csv(\"sample_submission.tsv\")"
   ]
  },
  {
   "cell_type": "code",
   "execution_count": 250,
   "metadata": {
    "collapsed": false
   },
   "outputs": [
    {
     "name": "stdout",
     "output_type": "stream",
     "text": [
      "7246 7246\n"
     ]
    }
   ],
   "source": [
    "frac = 0.1 # fraction of learning examples used for model fitting\n",
    "#frac = 1\n",
    "\n",
    "# sample the train set if your don't want to deel with all examples\n",
    "train = train.sample(frac=frac, random_state=42)\n",
    "\n",
    "X = train.drop(['Num','y'], axis=1)\n",
    "y = train['y']\n",
    "print(len(X), len(y))"
   ]
  },
  {
   "cell_type": "code",
   "execution_count": 251,
   "metadata": {
    "collapsed": false
   },
   "outputs": [
    {
     "name": "stdout",
     "output_type": "stream",
     "text": [
      "2016\n",
      "2016\n",
      "CPU times: user 52.6 s, sys: 0 ns, total: 52.6 s\n",
      "Wall time: 52.6 s\n"
     ]
    }
   ],
   "source": [
    "%%time\n",
    "from sklearn.ensemble import GradientBoostingRegressor\n",
    "\n",
    "#model = GradientBoostingRegressor(n_estimators=100, max_depth=12, random_state=42)\n",
    "model = RandomForestRegressor(n_estimators=100)\n",
    "model.fit(X, y)\n",
    "\n",
    "preds = model.predict(test.drop(['Num'], axis=1))\n",
    "\n",
    "print(len(preds))\n",
    "print(len(sample_submission))"
   ]
  },
  {
   "cell_type": "code",
   "execution_count": 252,
   "metadata": {
    "collapsed": true
   },
   "outputs": [],
   "source": [
    "sample_submission['y'] = preds"
   ]
  },
  {
   "cell_type": "code",
   "execution_count": 253,
   "metadata": {
    "collapsed": false
   },
   "outputs": [
    {
     "data": {
      "text/html": [
       "<div>\n",
       "<table border=\"1\" class=\"dataframe\">\n",
       "  <thead>\n",
       "    <tr style=\"text-align: right;\">\n",
       "      <th></th>\n",
       "      <th>Num</th>\n",
       "      <th>y</th>\n",
       "    </tr>\n",
       "  </thead>\n",
       "  <tbody>\n",
       "    <tr>\n",
       "      <th>0</th>\n",
       "      <td>348622</td>\n",
       "      <td>1667.35</td>\n",
       "    </tr>\n",
       "    <tr>\n",
       "      <th>1</th>\n",
       "      <td>348623</td>\n",
       "      <td>26811.91</td>\n",
       "    </tr>\n",
       "    <tr>\n",
       "      <th>2</th>\n",
       "      <td>348624</td>\n",
       "      <td>314262.51</td>\n",
       "    </tr>\n",
       "    <tr>\n",
       "      <th>3</th>\n",
       "      <td>348625</td>\n",
       "      <td>31135.05</td>\n",
       "    </tr>\n",
       "    <tr>\n",
       "      <th>4</th>\n",
       "      <td>348626</td>\n",
       "      <td>370.22</td>\n",
       "    </tr>\n",
       "  </tbody>\n",
       "</table>\n",
       "</div>"
      ],
      "text/plain": [
       "      Num          y\n",
       "0  348622    1667.35\n",
       "1  348623   26811.91\n",
       "2  348624  314262.51\n",
       "3  348625   31135.05\n",
       "4  348626     370.22"
      ]
     },
     "execution_count": 253,
     "metadata": {},
     "output_type": "execute_result"
    }
   ],
   "source": [
    "sample_submission.head(5)"
   ]
  },
  {
   "cell_type": "code",
   "execution_count": 254,
   "metadata": {
    "collapsed": false
   },
   "outputs": [
    {
     "name": "stdout",
     "output_type": "stream",
     "text": [
      "Empty DataFrame\n",
      "Columns: [Num, y]\n",
      "Index: []\n"
     ]
    }
   ],
   "source": [
    "# In GBM you can get some negative predictions:\n",
    "print(sample_submission[sample_submission['y'] < 0])"
   ]
  },
  {
   "cell_type": "code",
   "execution_count": 255,
   "metadata": {
    "collapsed": true
   },
   "outputs": [],
   "source": [
    "sample_submission['y'] = sample_submission['y'].map(lambda x: x if x > 0 else 0.0)"
   ]
  },
  {
   "cell_type": "code",
   "execution_count": 256,
   "metadata": {
    "collapsed": true
   },
   "outputs": [],
   "source": [
    "sample_submission.to_csv(\"baseline_submission.tsv\", sep=',', index=False)"
   ]
  },
  {
   "cell_type": "code",
   "execution_count": 34,
   "metadata": {
    "collapsed": false
   },
   "outputs": [],
   "source": [
    "# Попробуем замерить качество используемой модели\n",
    "\n",
    "from sklearn.cross_validation import cross_val_score\n"
   ]
  },
  {
   "cell_type": "code",
   "execution_count": 36,
   "metadata": {
    "collapsed": false
   },
   "outputs": [
    {
     "name": "stdout",
     "output_type": "stream",
     "text": [
      "0.903507626754\n",
      "CPU times: user 5min 19s, sys: 40 ms, total: 5min 19s\n",
      "Wall time: 5min 19s\n"
     ]
    }
   ],
   "source": [
    "%%time\n",
    "# Кросс валидация при использовании градиентного бустинга\n",
    "print(cross_val_score(model, X, y).mean())"
   ]
  },
  {
   "cell_type": "markdown",
   "metadata": {},
   "source": [
    "## Random Forest"
   ]
  },
  {
   "cell_type": "code",
   "execution_count": 37,
   "metadata": {
    "collapsed": true
   },
   "outputs": [],
   "source": [
    "from sklearn.ensemble import RandomForestRegressor"
   ]
  },
  {
   "cell_type": "code",
   "execution_count": 38,
   "metadata": {
    "collapsed": true
   },
   "outputs": [],
   "source": [
    "f = X.shape[1]"
   ]
  },
  {
   "cell_type": "code",
   "execution_count": 28,
   "metadata": {
    "collapsed": false
   },
   "outputs": [
    {
     "name": "stdout",
     "output_type": "stream",
     "text": [
      "0.927510030851\n",
      "CPU times: user 9.08 s, sys: 0 ns, total: 9.08 s\n",
      "Wall time: 9.09 s\n"
     ]
    }
   ],
   "source": [
    "%%time\n",
    "model_random_forest_0 = RandomForestRegressor(n_estimators=100, max_depth=10, max_features=int(f ** 0.5))\n",
    "print(cross_val_score(model_random_forest_0, X, y).mean())\n",
    "#model_random_forest_0.fit(X, y)"
   ]
  },
  {
   "cell_type": "code",
   "execution_count": 32,
   "metadata": {
    "collapsed": false
   },
   "outputs": [
    {
     "name": "stdout",
     "output_type": "stream",
     "text": [
      "Max depth:  2 cross_val_score:  0.891900537847\n",
      "Max depth:  3 cross_val_score:  0.921275398746\n",
      "Max depth:  4 cross_val_score:  0.926086233452\n",
      "Max depth:  5 cross_val_score:  0.924395333021\n",
      "Max depth:  6 cross_val_score:  0.926980907453\n",
      "Max depth:  7 cross_val_score:  0.927975809638\n",
      "Max depth:  8 cross_val_score:  0.926645861674\n",
      "Max depth:  9 cross_val_score:  0.926649285929\n",
      "Max depth:  10 cross_val_score:  0.927263402546\n",
      "Max depth:  11 cross_val_score:  0.926555667174\n",
      "Max depth:  12 cross_val_score:  0.926313914946\n",
      "Max depth:  13 cross_val_score:  0.927043466825\n",
      "Max depth:  14 cross_val_score:  0.924655621446\n"
     ]
    }
   ],
   "source": [
    "# Попробуем разную максимальную глубину\n",
    "depths = range(2, 15)\n",
    "for M_depth in depths:\n",
    "    model_random_forest_cur = RandomForestRegressor(n_estimators=100, max_depth=M_depth, max_features=int(f ** 0.5))\n",
    "    print(\"Max depth: \", M_depth, \"cross_val_score: \", cross_val_score(model_random_forest_cur, X, y).mean())\n"
   ]
  },
  {
   "cell_type": "markdown",
   "metadata": {},
   "source": [
    "Наилучшие результаты получились при max_depth равном 7, 10 и 13."
   ]
  },
  {
   "cell_type": "code",
   "execution_count": 34,
   "metadata": {
    "collapsed": false
   },
   "outputs": [
    {
     "name": "stdout",
     "output_type": "stream",
     "text": [
      "Trees number:  10 cross_val_score:  0.914681780287\n",
      "Trees number:  20 cross_val_score:  0.921584786635\n",
      "Trees number:  30 cross_val_score:  0.925689132517\n",
      "Trees number:  40 cross_val_score:  0.925455078442\n",
      "Trees number:  50 cross_val_score:  0.924764109672\n",
      "Trees number:  60 cross_val_score:  0.926765033074\n",
      "Trees number:  70 cross_val_score:  0.928427546975\n",
      "Trees number:  80 cross_val_score:  0.928654157052\n",
      "Trees number:  90 cross_val_score:  0.926374437468\n",
      "Trees number:  100 cross_val_score:  0.92671830565\n",
      "Trees number:  110 cross_val_score:  0.926638647829\n",
      "Trees number:  120 cross_val_score:  0.928000699942\n",
      "Trees number:  130 cross_val_score:  0.925724821795\n",
      "Trees number:  140 cross_val_score:  0.926141615138\n",
      "Trees number:  150 cross_val_score:  0.927238883589\n",
      "Trees number:  160 cross_val_score:  0.927641368519\n",
      "Trees number:  170 cross_val_score:  0.928273085445\n",
      "Trees number:  180 cross_val_score:  0.927820000096\n",
      "Trees number:  190 cross_val_score:  0.926205367811\n",
      "Trees number:  200 cross_val_score:  0.926925777056\n",
      "Trees number:  210 cross_val_score:  0.927869887541\n",
      "Trees number:  220 cross_val_score:  0.927409851749\n",
      "Trees number:  230 cross_val_score:  0.925894400384\n",
      "Trees number:  240 cross_val_score:  0.927075053616\n"
     ]
    }
   ],
   "source": [
    "# Попробуем разное количество деревьев\n",
    "\n",
    "import numpy as np\n",
    "\n",
    "trees_num = np.arange(10, 250, 10)\n",
    "for trees_n in trees_num:\n",
    "    model_random_forest_cur = RandomForestRegressor(n_estimators=trees_n, max_depth=10, max_features=int(f ** 0.5))\n",
    "    print(\"Trees number: \", trees_n, \"cross_val_score: \", cross_val_score(model_random_forest_cur, X, y).mean())\n"
   ]
  },
  {
   "cell_type": "markdown",
   "metadata": {},
   "source": [
    "Наилучшие результаты получились на следующих количествах деревьев: 70, 80, 120, 170"
   ]
  },
  {
   "cell_type": "markdown",
   "metadata": {},
   "source": [
    "Теперь исследуем подробнее варианты с лучшими количествами деревьев и лучшей максимальной глубиной (понятно, что рандомизация в сплитах накладывает отпечаток, но нужно же из чего-то выбирать, пусть будет такая вот эвристика)."
   ]
  },
  {
   "cell_type": "code",
   "execution_count": 37,
   "metadata": {
    "collapsed": false
   },
   "outputs": [
    {
     "name": "stdout",
     "output_type": "stream",
     "text": [
      "Max depth:  7\n",
      "\tTrees number:  70 cross_val_score:  0.925267729012\n",
      "\tTrees number:  80 cross_val_score:  0.926784551085\n",
      "\tTrees number:  120 cross_val_score:  0.92755375031\n",
      "\tTrees number:  170 cross_val_score:  0.927402085815\n",
      "\n",
      "Max depth:  10\n",
      "\tTrees number:  70 cross_val_score:  0.925550546325\n",
      "\tTrees number:  80 cross_val_score:  0.925178579232\n",
      "\tTrees number:  120 cross_val_score:  0.926860209309\n",
      "\tTrees number:  170 cross_val_score:  0.927677689606\n",
      "\n",
      "Max depth:  13\n",
      "\tTrees number:  70 cross_val_score:  0.92594808121\n",
      "\tTrees number:  80 cross_val_score:  0.924943057423\n",
      "\tTrees number:  120 cross_val_score:  0.928122289938\n",
      "\tTrees number:  170 cross_val_score:  0.928313355779\n",
      "\n"
     ]
    }
   ],
   "source": [
    "best_max_depths = [7, 10, 13]\n",
    "best_trees_num = [70, 80, 120, 170]\n",
    "\n",
    "for M_depth in best_max_depths:\n",
    "    print(\"Max depth: \", M_depth)\n",
    "    for trees_n in best_trees_num:\n",
    "        model_random_forest_cur = RandomForestRegressor(n_estimators=trees_n, \n",
    "                                                        max_depth=M_depth, \n",
    "                                                        max_features=int(f ** 0.5))\n",
    "        print(\"\\tTrees number: \", trees_n, \"cross_val_score: \", cross_val_score(model_random_forest_cur, X, y).mean())\n",
    "    print(\"\")        \n",
    "        "
   ]
  },
  {
   "cell_type": "markdown",
   "metadata": {},
   "source": [
    "Получили наилучшие результат при максимальной глубине деревьев 13 и максимальном количестве деревьев 170, такую модель и попробуем использовать."
   ]
  },
  {
   "cell_type": "markdown",
   "metadata": {},
   "source": [
    "## Важно: запустить ещё раз и попробовать залить ЭТОТ результат."
   ]
  },
  {
   "cell_type": "code",
   "execution_count": 45,
   "metadata": {
    "collapsed": false
   },
   "outputs": [
    {
     "name": "stdout",
     "output_type": "stream",
     "text": [
      "7246 7246\n",
      "2016\n",
      "2016\n",
      "CPU times: user 10.5 s, sys: 36 ms, total: 10.6 s\n",
      "Wall time: 10.6 s\n"
     ]
    }
   ],
   "source": [
    "%%time\n",
    "train = pd.read_csv(\"train.tsv\")\n",
    "frac = 0.1\n",
    "train = train.sample(frac=frac, random_state=42)\n",
    "\n",
    "X = train.drop(['Num','y'], axis=1)\n",
    "y = train['y']\n",
    "print(len(X), len(y))\n",
    "\n",
    "model_random_forest = RandomForestRegressor(n_estimators=170, max_depth=13, max_features=int(f ** 0.5))\n",
    "model_random_forest.fit(X, y)\n",
    "preds_rf = model_random_forest.predict(test.drop(['Num'], axis=1))\n",
    "\n",
    "print(len(preds_rf))\n",
    "print(len(sample_submission))\n",
    "\n",
    "sample_submission['y'] = preds_rf\n",
    "sample_submission['y'] = sample_submission['y'].map(lambda x: x if x > 0 else 0.0)\n",
    "\n",
    "sample_submission.to_csv(\"sample_submission.tsv\", sep=',', index=False)\n"
   ]
  },
  {
   "cell_type": "markdown",
   "metadata": {},
   "source": [
    "### Попробуем осуществить предобработку данных"
   ]
  },
  {
   "cell_type": "code",
   "execution_count": 46,
   "metadata": {
    "collapsed": false
   },
   "outputs": [],
   "source": [
    "from sklearn.preprocessing import scale\n",
    "\n",
    "X_scaled = scale(X)\n"
   ]
  },
  {
   "cell_type": "code",
   "execution_count": 48,
   "metadata": {
    "collapsed": false
   },
   "outputs": [
    {
     "name": "stdout",
     "output_type": "stream",
     "text": [
      "Cross val with latest random forest without scaling:  0.926974218349\n",
      "With scaling:  0.925780752861\n",
      "CPU times: user 36.9 s, sys: 20 ms, total: 36.9 s\n",
      "Wall time: 36.9 s\n"
     ]
    }
   ],
   "source": [
    "%%time\n",
    "# Посмотрим, как изменится результат на новых данных\n",
    "print(\"Cross val with latest random forest without scaling: \", cross_val_score(model_random_forest, X, y).mean())\n",
    "print(\"With scaling: \", cross_val_score(model_random_forest, X_scaled, y).mean())\n"
   ]
  },
  {
   "cell_type": "markdown",
   "metadata": {},
   "source": [
    "Результат отрицательный :)\n",
    "\n",
    "Можно было бы попробовать ещё выбросы убрать, может быть потом...\n",
    "\n",
    "(при перезапуске ячеек дало положительный результат: в общем, попробовать можно, но вряд ли это даст ощутимый эффект)"
   ]
  },
  {
   "cell_type": "markdown",
   "metadata": {
    "collapsed": true
   },
   "source": [
    " "
   ]
  },
  {
   "cell_type": "markdown",
   "metadata": {},
   "source": [
    "Попробуем ещё немного обработать данные.\n"
   ]
  },
  {
   "cell_type": "code",
   "execution_count": 57,
   "metadata": {
    "collapsed": false
   },
   "outputs": [
    {
     "name": "stdout",
     "output_type": "stream",
     "text": [
      "7246 7246\n"
     ]
    }
   ],
   "source": [
    "train = pd.read_csv(\"train.tsv\")\n",
    "frac = 0.1\n",
    "train = train.sample(frac=frac, random_state=42)\n",
    "\n",
    "X = train.drop(['Num','y'], axis=1)\n",
    "y = train['y']\n",
    "print(len(X), len(y))\n"
   ]
  },
  {
   "cell_type": "code",
   "execution_count": 58,
   "metadata": {
    "collapsed": false
   },
   "outputs": [
    {
     "data": {
      "text/html": [
       "<div>\n",
       "<table border=\"1\" class=\"dataframe\">\n",
       "  <thead>\n",
       "    <tr style=\"text-align: right;\">\n",
       "      <th></th>\n",
       "      <th>year</th>\n",
       "      <th>week</th>\n",
       "      <th>shift</th>\n",
       "      <th>item_id</th>\n",
       "      <th>f1</th>\n",
       "      <th>f2</th>\n",
       "      <th>f3</th>\n",
       "      <th>f4</th>\n",
       "      <th>f5</th>\n",
       "      <th>f6</th>\n",
       "      <th>...</th>\n",
       "      <th>f51</th>\n",
       "      <th>f52</th>\n",
       "      <th>f53</th>\n",
       "      <th>f54</th>\n",
       "      <th>f55</th>\n",
       "      <th>f56</th>\n",
       "      <th>f57</th>\n",
       "      <th>f58</th>\n",
       "      <th>f59</th>\n",
       "      <th>f60</th>\n",
       "    </tr>\n",
       "  </thead>\n",
       "  <tbody>\n",
       "    <tr>\n",
       "      <th>44283</th>\n",
       "      <td>2014</td>\n",
       "      <td>13</td>\n",
       "      <td>1</td>\n",
       "      <td>20452327</td>\n",
       "      <td>129441.0</td>\n",
       "      <td>104610.0</td>\n",
       "      <td>121114.0</td>\n",
       "      <td>133780.0</td>\n",
       "      <td>122580.0</td>\n",
       "      <td>126830.0</td>\n",
       "      <td>...</td>\n",
       "      <td>95880.0</td>\n",
       "      <td>88520.0</td>\n",
       "      <td>107270.0</td>\n",
       "      <td>79610.0</td>\n",
       "      <td>99210.0</td>\n",
       "      <td>114561.0</td>\n",
       "      <td>93790.0</td>\n",
       "      <td>98070.0</td>\n",
       "      <td>83980.0</td>\n",
       "      <td>105240.0</td>\n",
       "    </tr>\n",
       "    <tr>\n",
       "      <th>50871</th>\n",
       "      <td>2014</td>\n",
       "      <td>23</td>\n",
       "      <td>1</td>\n",
       "      <td>20441989</td>\n",
       "      <td>4162.0</td>\n",
       "      <td>6760.0</td>\n",
       "      <td>7210.0</td>\n",
       "      <td>11330.0</td>\n",
       "      <td>6950.0</td>\n",
       "      <td>6798.0</td>\n",
       "      <td>...</td>\n",
       "      <td>9932.0</td>\n",
       "      <td>8908.0</td>\n",
       "      <td>10464.0</td>\n",
       "      <td>7431.0</td>\n",
       "      <td>10334.0</td>\n",
       "      <td>11548.0</td>\n",
       "      <td>8698.0</td>\n",
       "      <td>8696.0</td>\n",
       "      <td>8160.0</td>\n",
       "      <td>7570.0</td>\n",
       "    </tr>\n",
       "    <tr>\n",
       "      <th>13810</th>\n",
       "      <td>2013</td>\n",
       "      <td>21</td>\n",
       "      <td>3</td>\n",
       "      <td>20438706</td>\n",
       "      <td>24931.0</td>\n",
       "      <td>30338.0</td>\n",
       "      <td>30690.0</td>\n",
       "      <td>37930.0</td>\n",
       "      <td>21420.0</td>\n",
       "      <td>28240.0</td>\n",
       "      <td>...</td>\n",
       "      <td>34475.0</td>\n",
       "      <td>22390.0</td>\n",
       "      <td>27124.0</td>\n",
       "      <td>29660.0</td>\n",
       "      <td>30105.0</td>\n",
       "      <td>28054.0</td>\n",
       "      <td>31545.0</td>\n",
       "      <td>28185.0</td>\n",
       "      <td>34890.0</td>\n",
       "      <td>28790.0</td>\n",
       "    </tr>\n",
       "    <tr>\n",
       "      <th>10062</th>\n",
       "      <td>2013</td>\n",
       "      <td>15</td>\n",
       "      <td>2</td>\n",
       "      <td>20438591</td>\n",
       "      <td>11505.0</td>\n",
       "      <td>13550.0</td>\n",
       "      <td>15360.0</td>\n",
       "      <td>14750.0</td>\n",
       "      <td>12961.0</td>\n",
       "      <td>9880.0</td>\n",
       "      <td>...</td>\n",
       "      <td>10920.0</td>\n",
       "      <td>14030.0</td>\n",
       "      <td>8060.0</td>\n",
       "      <td>8430.0</td>\n",
       "      <td>9980.0</td>\n",
       "      <td>13930.0</td>\n",
       "      <td>6340.0</td>\n",
       "      <td>7810.0</td>\n",
       "      <td>8960.0</td>\n",
       "      <td>10260.0</td>\n",
       "    </tr>\n",
       "    <tr>\n",
       "      <th>37186</th>\n",
       "      <td>2014</td>\n",
       "      <td>3</td>\n",
       "      <td>2</td>\n",
       "      <td>20449525</td>\n",
       "      <td>0.0</td>\n",
       "      <td>0.0</td>\n",
       "      <td>0.0</td>\n",
       "      <td>0.0</td>\n",
       "      <td>0.0</td>\n",
       "      <td>0.0</td>\n",
       "      <td>...</td>\n",
       "      <td>2090.0</td>\n",
       "      <td>2470.0</td>\n",
       "      <td>1145.0</td>\n",
       "      <td>2955.0</td>\n",
       "      <td>3915.0</td>\n",
       "      <td>740.0</td>\n",
       "      <td>2260.0</td>\n",
       "      <td>1403.0</td>\n",
       "      <td>1417.0</td>\n",
       "      <td>980.0</td>\n",
       "    </tr>\n",
       "  </tbody>\n",
       "</table>\n",
       "<p>5 rows × 64 columns</p>\n",
       "</div>"
      ],
      "text/plain": [
       "       year  week  shift   item_id        f1        f2        f3        f4  \\\n",
       "44283  2014    13      1  20452327  129441.0  104610.0  121114.0  133780.0   \n",
       "50871  2014    23      1  20441989    4162.0    6760.0    7210.0   11330.0   \n",
       "13810  2013    21      3  20438706   24931.0   30338.0   30690.0   37930.0   \n",
       "10062  2013    15      2  20438591   11505.0   13550.0   15360.0   14750.0   \n",
       "37186  2014     3      2  20449525       0.0       0.0       0.0       0.0   \n",
       "\n",
       "             f5        f6    ...         f51      f52       f53      f54  \\\n",
       "44283  122580.0  126830.0    ...     95880.0  88520.0  107270.0  79610.0   \n",
       "50871    6950.0    6798.0    ...      9932.0   8908.0   10464.0   7431.0   \n",
       "13810   21420.0   28240.0    ...     34475.0  22390.0   27124.0  29660.0   \n",
       "10062   12961.0    9880.0    ...     10920.0  14030.0    8060.0   8430.0   \n",
       "37186       0.0       0.0    ...      2090.0   2470.0    1145.0   2955.0   \n",
       "\n",
       "           f55       f56      f57      f58      f59       f60  \n",
       "44283  99210.0  114561.0  93790.0  98070.0  83980.0  105240.0  \n",
       "50871  10334.0   11548.0   8698.0   8696.0   8160.0    7570.0  \n",
       "13810  30105.0   28054.0  31545.0  28185.0  34890.0   28790.0  \n",
       "10062   9980.0   13930.0   6340.0   7810.0   8960.0   10260.0  \n",
       "37186   3915.0     740.0   2260.0   1403.0   1417.0     980.0  \n",
       "\n",
       "[5 rows x 64 columns]"
      ]
     },
     "execution_count": 58,
     "metadata": {},
     "output_type": "execute_result"
    }
   ],
   "source": [
    "X.head()"
   ]
  },
  {
   "cell_type": "code",
   "execution_count": 59,
   "metadata": {
    "collapsed": false
   },
   "outputs": [
    {
     "data": {
      "text/html": [
       "<div>\n",
       "<table border=\"1\" class=\"dataframe\">\n",
       "  <thead>\n",
       "    <tr style=\"text-align: right;\">\n",
       "      <th></th>\n",
       "      <th>year</th>\n",
       "      <th>week</th>\n",
       "      <th>shift</th>\n",
       "      <th>f1</th>\n",
       "      <th>f2</th>\n",
       "      <th>f3</th>\n",
       "      <th>f4</th>\n",
       "      <th>f5</th>\n",
       "      <th>f6</th>\n",
       "      <th>f7</th>\n",
       "      <th>...</th>\n",
       "      <th>f51</th>\n",
       "      <th>f52</th>\n",
       "      <th>f53</th>\n",
       "      <th>f54</th>\n",
       "      <th>f55</th>\n",
       "      <th>f56</th>\n",
       "      <th>f57</th>\n",
       "      <th>f58</th>\n",
       "      <th>f59</th>\n",
       "      <th>f60</th>\n",
       "    </tr>\n",
       "  </thead>\n",
       "  <tbody>\n",
       "    <tr>\n",
       "      <th>44283</th>\n",
       "      <td>2014</td>\n",
       "      <td>13</td>\n",
       "      <td>1</td>\n",
       "      <td>129441.0</td>\n",
       "      <td>104610.0</td>\n",
       "      <td>121114.0</td>\n",
       "      <td>133780.0</td>\n",
       "      <td>122580.0</td>\n",
       "      <td>126830.0</td>\n",
       "      <td>102220.0</td>\n",
       "      <td>...</td>\n",
       "      <td>95880.0</td>\n",
       "      <td>88520.0</td>\n",
       "      <td>107270.0</td>\n",
       "      <td>79610.0</td>\n",
       "      <td>99210.0</td>\n",
       "      <td>114561.0</td>\n",
       "      <td>93790.0</td>\n",
       "      <td>98070.0</td>\n",
       "      <td>83980.0</td>\n",
       "      <td>105240.0</td>\n",
       "    </tr>\n",
       "    <tr>\n",
       "      <th>50871</th>\n",
       "      <td>2014</td>\n",
       "      <td>23</td>\n",
       "      <td>1</td>\n",
       "      <td>4162.0</td>\n",
       "      <td>6760.0</td>\n",
       "      <td>7210.0</td>\n",
       "      <td>11330.0</td>\n",
       "      <td>6950.0</td>\n",
       "      <td>6798.0</td>\n",
       "      <td>9470.0</td>\n",
       "      <td>...</td>\n",
       "      <td>9932.0</td>\n",
       "      <td>8908.0</td>\n",
       "      <td>10464.0</td>\n",
       "      <td>7431.0</td>\n",
       "      <td>10334.0</td>\n",
       "      <td>11548.0</td>\n",
       "      <td>8698.0</td>\n",
       "      <td>8696.0</td>\n",
       "      <td>8160.0</td>\n",
       "      <td>7570.0</td>\n",
       "    </tr>\n",
       "    <tr>\n",
       "      <th>13810</th>\n",
       "      <td>2013</td>\n",
       "      <td>21</td>\n",
       "      <td>3</td>\n",
       "      <td>24931.0</td>\n",
       "      <td>30338.0</td>\n",
       "      <td>30690.0</td>\n",
       "      <td>37930.0</td>\n",
       "      <td>21420.0</td>\n",
       "      <td>28240.0</td>\n",
       "      <td>28685.0</td>\n",
       "      <td>...</td>\n",
       "      <td>34475.0</td>\n",
       "      <td>22390.0</td>\n",
       "      <td>27124.0</td>\n",
       "      <td>29660.0</td>\n",
       "      <td>30105.0</td>\n",
       "      <td>28054.0</td>\n",
       "      <td>31545.0</td>\n",
       "      <td>28185.0</td>\n",
       "      <td>34890.0</td>\n",
       "      <td>28790.0</td>\n",
       "    </tr>\n",
       "    <tr>\n",
       "      <th>10062</th>\n",
       "      <td>2013</td>\n",
       "      <td>15</td>\n",
       "      <td>2</td>\n",
       "      <td>11505.0</td>\n",
       "      <td>13550.0</td>\n",
       "      <td>15360.0</td>\n",
       "      <td>14750.0</td>\n",
       "      <td>12961.0</td>\n",
       "      <td>9880.0</td>\n",
       "      <td>11950.0</td>\n",
       "      <td>...</td>\n",
       "      <td>10920.0</td>\n",
       "      <td>14030.0</td>\n",
       "      <td>8060.0</td>\n",
       "      <td>8430.0</td>\n",
       "      <td>9980.0</td>\n",
       "      <td>13930.0</td>\n",
       "      <td>6340.0</td>\n",
       "      <td>7810.0</td>\n",
       "      <td>8960.0</td>\n",
       "      <td>10260.0</td>\n",
       "    </tr>\n",
       "    <tr>\n",
       "      <th>37186</th>\n",
       "      <td>2014</td>\n",
       "      <td>3</td>\n",
       "      <td>2</td>\n",
       "      <td>0.0</td>\n",
       "      <td>0.0</td>\n",
       "      <td>0.0</td>\n",
       "      <td>0.0</td>\n",
       "      <td>0.0</td>\n",
       "      <td>0.0</td>\n",
       "      <td>0.0</td>\n",
       "      <td>...</td>\n",
       "      <td>2090.0</td>\n",
       "      <td>2470.0</td>\n",
       "      <td>1145.0</td>\n",
       "      <td>2955.0</td>\n",
       "      <td>3915.0</td>\n",
       "      <td>740.0</td>\n",
       "      <td>2260.0</td>\n",
       "      <td>1403.0</td>\n",
       "      <td>1417.0</td>\n",
       "      <td>980.0</td>\n",
       "    </tr>\n",
       "  </tbody>\n",
       "</table>\n",
       "<p>5 rows × 63 columns</p>\n",
       "</div>"
      ],
      "text/plain": [
       "       year  week  shift        f1        f2        f3        f4        f5  \\\n",
       "44283  2014    13      1  129441.0  104610.0  121114.0  133780.0  122580.0   \n",
       "50871  2014    23      1    4162.0    6760.0    7210.0   11330.0    6950.0   \n",
       "13810  2013    21      3   24931.0   30338.0   30690.0   37930.0   21420.0   \n",
       "10062  2013    15      2   11505.0   13550.0   15360.0   14750.0   12961.0   \n",
       "37186  2014     3      2       0.0       0.0       0.0       0.0       0.0   \n",
       "\n",
       "             f6        f7    ...         f51      f52       f53      f54  \\\n",
       "44283  126830.0  102220.0    ...     95880.0  88520.0  107270.0  79610.0   \n",
       "50871    6798.0    9470.0    ...      9932.0   8908.0   10464.0   7431.0   \n",
       "13810   28240.0   28685.0    ...     34475.0  22390.0   27124.0  29660.0   \n",
       "10062    9880.0   11950.0    ...     10920.0  14030.0    8060.0   8430.0   \n",
       "37186       0.0       0.0    ...      2090.0   2470.0    1145.0   2955.0   \n",
       "\n",
       "           f55       f56      f57      f58      f59       f60  \n",
       "44283  99210.0  114561.0  93790.0  98070.0  83980.0  105240.0  \n",
       "50871  10334.0   11548.0   8698.0   8696.0   8160.0    7570.0  \n",
       "13810  30105.0   28054.0  31545.0  28185.0  34890.0   28790.0  \n",
       "10062   9980.0   13930.0   6340.0   7810.0   8960.0   10260.0  \n",
       "37186   3915.0     740.0   2260.0   1403.0   1417.0     980.0  \n",
       "\n",
       "[5 rows x 63 columns]"
      ]
     },
     "execution_count": 59,
     "metadata": {},
     "output_type": "execute_result"
    }
   ],
   "source": [
    "X = X.drop(['item_id'], axis=1)\n",
    "X.head()\n"
   ]
  },
  {
   "cell_type": "code",
   "execution_count": 60,
   "metadata": {
    "collapsed": false
   },
   "outputs": [],
   "source": [
    "X = X.drop(['f31', 'f32', 'f33', 'f34', 'f35', 'f36', 'f37', 'f38', 'f39', 'f40', 'f41', 'f42', 'f43', 'f44'], axis=1)"
   ]
  },
  {
   "cell_type": "code",
   "execution_count": 61,
   "metadata": {
    "collapsed": true
   },
   "outputs": [],
   "source": [
    "X = X.drop(['f45', 'f46', 'f47', 'f48', 'f49', 'f50', 'f51', 'f52', 'f53', 'f54', 'f55', 'f56', 'f57', 'f58'], axis=1)"
   ]
  },
  {
   "cell_type": "code",
   "execution_count": 62,
   "metadata": {
    "collapsed": false
   },
   "outputs": [
    {
     "data": {
      "text/html": [
       "<div>\n",
       "<table border=\"1\" class=\"dataframe\">\n",
       "  <thead>\n",
       "    <tr style=\"text-align: right;\">\n",
       "      <th></th>\n",
       "      <th>year</th>\n",
       "      <th>week</th>\n",
       "      <th>shift</th>\n",
       "      <th>f1</th>\n",
       "      <th>f2</th>\n",
       "      <th>f3</th>\n",
       "      <th>f4</th>\n",
       "      <th>f5</th>\n",
       "      <th>f6</th>\n",
       "      <th>f7</th>\n",
       "      <th>...</th>\n",
       "      <th>f21</th>\n",
       "      <th>f22</th>\n",
       "      <th>f23</th>\n",
       "      <th>f24</th>\n",
       "      <th>f25</th>\n",
       "      <th>f26</th>\n",
       "      <th>f27</th>\n",
       "      <th>f28</th>\n",
       "      <th>f29</th>\n",
       "      <th>f30</th>\n",
       "    </tr>\n",
       "  </thead>\n",
       "  <tbody>\n",
       "    <tr>\n",
       "      <th>44283</th>\n",
       "      <td>2014</td>\n",
       "      <td>13</td>\n",
       "      <td>1</td>\n",
       "      <td>129441.0</td>\n",
       "      <td>104610.0</td>\n",
       "      <td>121114.0</td>\n",
       "      <td>133780.0</td>\n",
       "      <td>122580.0</td>\n",
       "      <td>126830.0</td>\n",
       "      <td>102220.0</td>\n",
       "      <td>...</td>\n",
       "      <td>95880.0</td>\n",
       "      <td>88520.0</td>\n",
       "      <td>107270.0</td>\n",
       "      <td>79610.0</td>\n",
       "      <td>99210.0</td>\n",
       "      <td>114561.0</td>\n",
       "      <td>93790.0</td>\n",
       "      <td>98070.0</td>\n",
       "      <td>83980.0</td>\n",
       "      <td>105240.0</td>\n",
       "    </tr>\n",
       "    <tr>\n",
       "      <th>50871</th>\n",
       "      <td>2014</td>\n",
       "      <td>23</td>\n",
       "      <td>1</td>\n",
       "      <td>4162.0</td>\n",
       "      <td>6760.0</td>\n",
       "      <td>7210.0</td>\n",
       "      <td>11330.0</td>\n",
       "      <td>6950.0</td>\n",
       "      <td>6798.0</td>\n",
       "      <td>9470.0</td>\n",
       "      <td>...</td>\n",
       "      <td>9932.0</td>\n",
       "      <td>8908.0</td>\n",
       "      <td>10464.0</td>\n",
       "      <td>7431.0</td>\n",
       "      <td>10334.0</td>\n",
       "      <td>11548.0</td>\n",
       "      <td>8698.0</td>\n",
       "      <td>8696.0</td>\n",
       "      <td>8160.0</td>\n",
       "      <td>7570.0</td>\n",
       "    </tr>\n",
       "    <tr>\n",
       "      <th>13810</th>\n",
       "      <td>2013</td>\n",
       "      <td>21</td>\n",
       "      <td>3</td>\n",
       "      <td>24931.0</td>\n",
       "      <td>30338.0</td>\n",
       "      <td>30690.0</td>\n",
       "      <td>37930.0</td>\n",
       "      <td>21420.0</td>\n",
       "      <td>28240.0</td>\n",
       "      <td>28685.0</td>\n",
       "      <td>...</td>\n",
       "      <td>34475.0</td>\n",
       "      <td>22390.0</td>\n",
       "      <td>27124.0</td>\n",
       "      <td>29660.0</td>\n",
       "      <td>30105.0</td>\n",
       "      <td>28054.0</td>\n",
       "      <td>31545.0</td>\n",
       "      <td>28185.0</td>\n",
       "      <td>34890.0</td>\n",
       "      <td>28790.0</td>\n",
       "    </tr>\n",
       "    <tr>\n",
       "      <th>10062</th>\n",
       "      <td>2013</td>\n",
       "      <td>15</td>\n",
       "      <td>2</td>\n",
       "      <td>11505.0</td>\n",
       "      <td>13550.0</td>\n",
       "      <td>15360.0</td>\n",
       "      <td>14750.0</td>\n",
       "      <td>12961.0</td>\n",
       "      <td>9880.0</td>\n",
       "      <td>11950.0</td>\n",
       "      <td>...</td>\n",
       "      <td>10920.0</td>\n",
       "      <td>14030.0</td>\n",
       "      <td>8060.0</td>\n",
       "      <td>8430.0</td>\n",
       "      <td>9980.0</td>\n",
       "      <td>13930.0</td>\n",
       "      <td>6340.0</td>\n",
       "      <td>7810.0</td>\n",
       "      <td>8960.0</td>\n",
       "      <td>10260.0</td>\n",
       "    </tr>\n",
       "    <tr>\n",
       "      <th>37186</th>\n",
       "      <td>2014</td>\n",
       "      <td>3</td>\n",
       "      <td>2</td>\n",
       "      <td>0.0</td>\n",
       "      <td>0.0</td>\n",
       "      <td>0.0</td>\n",
       "      <td>0.0</td>\n",
       "      <td>0.0</td>\n",
       "      <td>0.0</td>\n",
       "      <td>0.0</td>\n",
       "      <td>...</td>\n",
       "      <td>2090.0</td>\n",
       "      <td>2470.0</td>\n",
       "      <td>1145.0</td>\n",
       "      <td>2955.0</td>\n",
       "      <td>3915.0</td>\n",
       "      <td>740.0</td>\n",
       "      <td>2260.0</td>\n",
       "      <td>1403.0</td>\n",
       "      <td>1417.0</td>\n",
       "      <td>980.0</td>\n",
       "    </tr>\n",
       "  </tbody>\n",
       "</table>\n",
       "<p>5 rows × 33 columns</p>\n",
       "</div>"
      ],
      "text/plain": [
       "       year  week  shift        f1        f2        f3        f4        f5  \\\n",
       "44283  2014    13      1  129441.0  104610.0  121114.0  133780.0  122580.0   \n",
       "50871  2014    23      1    4162.0    6760.0    7210.0   11330.0    6950.0   \n",
       "13810  2013    21      3   24931.0   30338.0   30690.0   37930.0   21420.0   \n",
       "10062  2013    15      2   11505.0   13550.0   15360.0   14750.0   12961.0   \n",
       "37186  2014     3      2       0.0       0.0       0.0       0.0       0.0   \n",
       "\n",
       "             f6        f7    ...         f21      f22       f23      f24  \\\n",
       "44283  126830.0  102220.0    ...     95880.0  88520.0  107270.0  79610.0   \n",
       "50871    6798.0    9470.0    ...      9932.0   8908.0   10464.0   7431.0   \n",
       "13810   28240.0   28685.0    ...     34475.0  22390.0   27124.0  29660.0   \n",
       "10062    9880.0   11950.0    ...     10920.0  14030.0    8060.0   8430.0   \n",
       "37186       0.0       0.0    ...      2090.0   2470.0    1145.0   2955.0   \n",
       "\n",
       "           f25       f26      f27      f28      f29       f30  \n",
       "44283  99210.0  114561.0  93790.0  98070.0  83980.0  105240.0  \n",
       "50871  10334.0   11548.0   8698.0   8696.0   8160.0    7570.0  \n",
       "13810  30105.0   28054.0  31545.0  28185.0  34890.0   28790.0  \n",
       "10062   9980.0   13930.0   6340.0   7810.0   8960.0   10260.0  \n",
       "37186   3915.0     740.0   2260.0   1403.0   1417.0     980.0  \n",
       "\n",
       "[5 rows x 33 columns]"
      ]
     },
     "execution_count": 62,
     "metadata": {},
     "output_type": "execute_result"
    }
   ],
   "source": [
    "X = X.drop(['f59', 'f60'], axis=1)\n",
    "X.head()\n"
   ]
  },
  {
   "cell_type": "code",
   "execution_count": 75,
   "metadata": {
    "collapsed": false
   },
   "outputs": [
    {
     "name": "stdout",
     "output_type": "stream",
     "text": [
      "With min data:  0.927848124722\n",
      "CPU times: user 17.5 s, sys: 4 ms, total: 17.5 s\n",
      "Wall time: 17.5 s\n"
     ]
    }
   ],
   "source": [
    "%%time\n",
    "\n",
    "f = X.shape[1]\n",
    "model_rf_min_data = RandomForestRegressor(n_estimators=170, max_depth=13, max_features=int(f ** 0.5))\n",
    "model_rf_min_data.fit(X, y)\n",
    "\n",
    "print(\"With min data: \", cross_val_score(model_rf_min_data, X, y).mean())\n"
   ]
  },
  {
   "cell_type": "markdown",
   "metadata": {},
   "source": [
    "Почти не повлияло, но пусть уж так."
   ]
  },
  {
   "cell_type": "code",
   "execution_count": 71,
   "metadata": {
    "collapsed": true
   },
   "outputs": [],
   "source": [
    "test = pd.read_csv(\"test.tsv\")\n",
    "test_min_data = test.drop(['Num'], axis=1)\n",
    "test_min_data = test_min_data.drop(['item_id'], axis=1)\n",
    "test_min_data = test_min_data.drop(['f31', 'f32', 'f33', 'f34', 'f35', 'f36', 'f37', 'f38', 'f39',\n",
    "                           'f40', 'f41', 'f42', 'f43', 'f44',\n",
    "                           'f45', 'f46', 'f47', 'f48', 'f49',\n",
    "                           'f50', 'f51', 'f52', 'f53', 'f54',\n",
    "                           'f55', 'f56', 'f57', 'f58', 'f59', \n",
    "                           'f60'], axis=1)\n"
   ]
  },
  {
   "cell_type": "code",
   "execution_count": 73,
   "metadata": {
    "collapsed": false
   },
   "outputs": [
    {
     "name": "stdout",
     "output_type": "stream",
     "text": [
      "2016\n",
      "2016\n"
     ]
    }
   ],
   "source": [
    "preds_rf_min_data = model_rf_min_data.predict(test_min_data)\n",
    "\n",
    "print(len(preds_rf_min_data))\n",
    "print(len(sample_submission))\n",
    "\n",
    "sample_submission['y'] = preds_rf_min_data\n",
    "sample_submission['y'] = sample_submission['y'].map(lambda x: x if x > 0 else 0.0)\n",
    "\n",
    "sample_submission.to_csv(\"sample_submission.tsv\", sep=',', index=False)\n"
   ]
  },
  {
   "cell_type": "code",
   "execution_count": null,
   "metadata": {
    "collapsed": true
   },
   "outputs": [],
   "source": [
    "\n"
   ]
  },
  {
   "cell_type": "code",
   "execution_count": 247,
   "metadata": {
    "collapsed": false
   },
   "outputs": [
    {
     "name": "stdout",
     "output_type": "stream",
     "text": [
      "With strange data:  0.938225423346\n"
     ]
    }
   ],
   "source": [
    "# Что-то ну уж совсем странное\n",
    "X_strange = X.drop(['f1',\n",
    "                    'f2',\n",
    "                    'f3',\n",
    "                    'f4',\n",
    "                    'f5',\n",
    "                    'f6',\n",
    "                    #'f7',\n",
    "                    'f8',\n",
    "                    'f9',\n",
    "                    #'f10',\n",
    "                    #'f11',\n",
    "                    'f12',\n",
    "                    'f13',\n",
    "                    #'f14',\n",
    "                    'f15',\n",
    "                    'f16',\n",
    "                    'f17',\n",
    "                    'f18',\n",
    "                    'f19',\n",
    "                    'f20',\n",
    "                    'f21',\n",
    "                    #'f22',\n",
    "                    #'f23',\n",
    "                    'f24',\n",
    "                    'f25',\n",
    "                    'f26',\n",
    "                    #'f27',\n",
    "                    #'f28',\n",
    "                    #'f29',\n",
    "                    'f30',\n",
    "                    ], axis=1)\n",
    "\n",
    "f = X_strange.shape[1]\n",
    "model_rf_strange = RandomForestRegressor(n_estimators=170, max_depth=13, max_features=int(f ** 0.5))\n",
    "model_rf_strange.fit(X_strange, y)\n",
    "\n",
    "print(\"With strange data: \", cross_val_score(model_rf_min_data, X_strange, y).mean())\n"
   ]
  },
  {
   "cell_type": "code",
   "execution_count": 240,
   "metadata": {
    "collapsed": false
   },
   "outputs": [
    {
     "name": "stdout",
     "output_type": "stream",
     "text": [
      "2016\n",
      "2016\n"
     ]
    }
   ],
   "source": [
    "test_strange = test_min_data.drop(['f1','f2', 'f3', 'f4', 'f5', 'f6', 'f8', 'f9', 'f12', 'f13', 'f15',\n",
    "                                   'f16', 'f17', 'f18', 'f19', 'f20', 'f21', 'f24', 'f25', 'f26', 'f30'], axis=1)\n",
    "\n",
    "preds_rf_strange = model_rf_strange.predict(test_strange)\n",
    "\n",
    "print(len(preds_rf_strange))\n",
    "print(len(sample_submission))\n",
    "\n",
    "sample_submission['y'] = preds_rf_strange\n",
    "sample_submission['y'] = sample_submission['y'].map(lambda x: x if x > 0 else 0.0)\n",
    "\n",
    "sample_submission.to_csv(\"sample_submission.tsv\", sep=',', index=False)\n"
   ]
  },
  {
   "cell_type": "code",
   "execution_count": null,
   "metadata": {
    "collapsed": true
   },
   "outputs": [],
   "source": []
  },
  {
   "cell_type": "code",
   "execution_count": null,
   "metadata": {
    "collapsed": true
   },
   "outputs": [],
   "source": []
  },
  {
   "cell_type": "markdown",
   "metadata": {},
   "source": [
    "# ОТЧЁТ:"
   ]
  },
  {
   "cell_type": "markdown",
   "metadata": {
    "collapsed": true
   },
   "source": [
    "***Краткая формулировка задачи:***\n",
    "\n",
    "Даны предпосчитанные средние значения продаж конкретных товаров по разным временным срезам.\n",
    "\n",
    "Требуется написать алгоритм машинного обучения, прогнозирующий по историческим данным о продажах количество проданных товаров."
   ]
  },
  {
   "cell_type": "markdown",
   "metadata": {},
   "source": [
    "***Наилучшим оказалось следующее решение:***"
   ]
  },
  {
   "cell_type": "code",
   "execution_count": 257,
   "metadata": {
    "collapsed": false
   },
   "outputs": [
    {
     "name": "stdout",
     "output_type": "stream",
     "text": [
      "CPU times: user 55.2 s, sys: 84 ms, total: 55.2 s\n",
      "Wall time: 55.2 s\n"
     ]
    }
   ],
   "source": [
    "%%time\n",
    "\n",
    "import pandas as pd\n",
    "from sklearn.ensemble import RandomForestRegressor\n",
    "\n",
    "train = pd.read_csv(\"train.tsv\")\n",
    "test = pd.read_csv(\"test.tsv\")\n",
    "sample_submission = pd.read_csv(\"sample_submission.tsv\")\n",
    "\n",
    "frac = 0.1\n",
    "\n",
    "train = train.sample(frac=frac, random_state=42)\n",
    "\n",
    "X = train.drop(['Num','y'], axis=1)\n",
    "y = train['y']\n",
    "\n",
    "model = RandomForestRegressor(n_estimators=100)\n",
    "model.fit(X, y)\n",
    "\n",
    "preds = model.predict(test.drop(['Num'], axis=1))\n",
    "\n",
    "sample_submission['y'] = preds\n",
    "\n",
    "sample_submission['y'] = sample_submission['y'].map(lambda x: x if x > 0 else 0.0)\n",
    "\n",
    "sample_submission.to_csv(\"sample_submission.tsv\", sep=',', index=False)\n"
   ]
  },
  {
   "cell_type": "markdown",
   "metadata": {},
   "source": [
    "Здесь отсутствует какая-либо существенная предобработка данных, обучается просто RandomForestRegressor на 100 деревьях."
   ]
  },
  {
   "cell_type": "markdown",
   "metadata": {},
   "source": [
    "***Другие подходы:***\n",
    "\n",
    "Пробовала также градиентный бустинг, но основной исследуемой моделью был RandomForest.\n",
    "\n",
    "Исследовала качество на RandomForest с различным количеством деревьев и различной глубиной этих деревьев. Качество SMAPE на наилучшем из полученных RandomForest оказалось лучше чем с использованием градиентного бустинга.\n",
    "\n",
    "Также пыталась предобрабатывать данные. Сначала я их отскалировала, но существенного результата это не дало, что и понятно, скалирование как-то существенно может сказаться на линейных моделях, коей RandomForest не является. Кроме того, я удалила категориальный признак item_id, и пыталась понять, какие ещё признаки коррелируют и поэтому их не стоит учитывать в построении модели. Желаемого эффекта это не дало: на SMAPE с точностью до десятых долей не повлияло вообще.\n",
    "\n",
    "***Качество*** определяла с помощью кросс-валидации с метрикой MSE, значения полученные при такой оценке качества с небольшой погрешностью коррелируют с метрикой SMAPE."
   ]
  }
 ],
 "metadata": {
  "kernelspec": {
   "display_name": "Python 3",
   "language": "python",
   "name": "python3"
  },
  "language_info": {
   "codemirror_mode": {
    "name": "ipython",
    "version": 3
   },
   "file_extension": ".py",
   "mimetype": "text/x-python",
   "name": "python",
   "nbconvert_exporter": "python",
   "pygments_lexer": "ipython3",
   "version": "3.6.0"
  }
 },
 "nbformat": 4,
 "nbformat_minor": 0
}
