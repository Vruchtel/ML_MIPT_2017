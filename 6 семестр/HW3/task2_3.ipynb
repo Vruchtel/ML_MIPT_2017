{
 "cells": [
  {
   "cell_type": "markdown",
   "metadata": {},
   "source": [
    "## Вручтель Серафима. 495 группа. Корреляция ответов базовых алгоритмов."
   ]
  },
  {
   "cell_type": "markdown",
   "metadata": {},
   "source": [
    "Пусть $\\xi_1, ..., \\xi_m$ - одинаково распределённые случайные величины с ковариацией $\\rho$ и дисперсией $\\sigma^2$.\n",
    "\n",
    "Найдём дисперсию их среднего:\n",
    "\n",
    "$D(\\frac{1}{M} \\Sigma \\xi_m) = \\frac{1}{M^2} cov (\\Sigma \\xi_i, \\Sigma \\xi_j) = \\frac{1}{M^2} (M \\sigma^2 + M (M - 1) \\rho \\sigma^2) = \\frac{1}{M} \\sigma^2 (1 - (M - 1) \\rho) = \\frac{1}{M} \\sigma^2 ((1 - \\rho) + \\rho M)  = \\rho \\sigma^2 + (1 - \\rho)) \\frac{\\sigma^2}{M}$ . "
   ]
  },
  {
   "cell_type": "markdown",
   "metadata": {},
   "source": [
    "Что и требовалось доказать."
   ]
  }
 ],
 "metadata": {
  "kernelspec": {
   "display_name": "Python 3",
   "language": "python",
   "name": "python3"
  },
  "language_info": {
   "codemirror_mode": {
    "name": "ipython",
    "version": 3
   },
   "file_extension": ".py",
   "mimetype": "text/x-python",
   "name": "python",
   "nbconvert_exporter": "python",
   "pygments_lexer": "ipython3",
   "version": "3.6.0"
  }
 },
 "nbformat": 4,
 "nbformat_minor": 2
}
