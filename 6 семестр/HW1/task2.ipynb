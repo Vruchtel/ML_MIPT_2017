{
 "cells": [
  {
   "cell_type": "markdown",
   "metadata": {},
   "source": [
    "### Вручтель Серафима. 495 группа. Наивный байесовский классификатор."
   ]
  },
  {
   "cell_type": "code",
   "execution_count": 2,
   "metadata": {
    "collapsed": true
   },
   "outputs": [],
   "source": [
    "from sklearn import datasets\n",
    "\n",
    "import numpy as np\n",
    "import matplotlib.pyplot as plt\n",
    "\n",
    "%matplotlib inline"
   ]
  },
  {
   "cell_type": "markdown",
   "metadata": {},
   "source": [
    "Загрузим датасеты digits и breast_cancer из sklearn.datasets."
   ]
  },
  {
   "cell_type": "code",
   "execution_count": 4,
   "metadata": {
    "collapsed": true
   },
   "outputs": [],
   "source": [
    "digits = datasets.load_digits()\n",
    "breast_cancer = datasets.load_breast_cancer()\n"
   ]
  },
  {
   "cell_type": "markdown",
   "metadata": {},
   "source": [
    "Выведем несколько строчек из обучающих выборок и посмотрим на признаки."
   ]
  },
  {
   "cell_type": "code",
   "execution_count": 8,
   "metadata": {
    "collapsed": false
   },
   "outputs": [
    {
     "data": {
      "text/plain": [
       "dict_keys(['data', 'target', 'target_names', 'images', 'DESCR'])"
      ]
     },
     "execution_count": 8,
     "metadata": {},
     "output_type": "execute_result"
    }
   ],
   "source": [
    "digits.keys()"
   ]
  },
  {
   "cell_type": "code",
   "execution_count": 13,
   "metadata": {
    "collapsed": false
   },
   "outputs": [
    {
     "data": {
      "text/plain": [
       "array([[  0.,   0.,   5.,  13.,   9.,   1.,   0.,   0.,   0.,   0.,  13.,\n",
       "         15.,  10.,  15.,   5.,   0.,   0.,   3.,  15.,   2.,   0.,  11.,\n",
       "          8.,   0.,   0.,   4.,  12.,   0.,   0.,   8.,   8.,   0.,   0.,\n",
       "          5.,   8.,   0.,   0.,   9.,   8.,   0.,   0.,   4.,  11.,   0.,\n",
       "          1.,  12.,   7.,   0.,   0.,   2.,  14.,   5.,  10.,  12.,   0.,\n",
       "          0.,   0.,   0.,   6.,  13.,  10.,   0.,   0.,   0.],\n",
       "       [  0.,   0.,   0.,  12.,  13.,   5.,   0.,   0.,   0.,   0.,   0.,\n",
       "         11.,  16.,   9.,   0.,   0.,   0.,   0.,   3.,  15.,  16.,   6.,\n",
       "          0.,   0.,   0.,   7.,  15.,  16.,  16.,   2.,   0.,   0.,   0.,\n",
       "          0.,   1.,  16.,  16.,   3.,   0.,   0.,   0.,   0.,   1.,  16.,\n",
       "         16.,   6.,   0.,   0.,   0.,   0.,   1.,  16.,  16.,   6.,   0.,\n",
       "          0.,   0.,   0.,   0.,  11.,  16.,  10.,   0.,   0.]])"
      ]
     },
     "execution_count": 13,
     "metadata": {},
     "output_type": "execute_result"
    }
   ],
   "source": [
    "digits.data[:2]"
   ]
  },
  {
   "cell_type": "code",
   "execution_count": 14,
   "metadata": {
    "collapsed": false
   },
   "outputs": [
    {
     "data": {
      "text/plain": [
       "array([0, 1, 2, 3, 4, 5, 6, 7, 8, 9])"
      ]
     },
     "execution_count": 14,
     "metadata": {},
     "output_type": "execute_result"
    }
   ],
   "source": [
    "digits.target_names"
   ]
  },
  {
   "cell_type": "code",
   "execution_count": 18,
   "metadata": {
    "collapsed": false
   },
   "outputs": [
    {
     "data": {
      "text/plain": [
       "array([0, 1, 2, 3, 4, 5, 6, 7, 8, 9, 0, 1, 2, 3, 4])"
      ]
     },
     "execution_count": 18,
     "metadata": {},
     "output_type": "execute_result"
    }
   ],
   "source": [
    "digits.target[:15]"
   ]
  },
  {
   "cell_type": "code",
   "execution_count": 24,
   "metadata": {
    "collapsed": false
   },
   "outputs": [
    {
     "name": "stdout",
     "output_type": "stream",
     "text": [
      "keys: dict_keys(['data', 'target', 'target_names', 'DESCR', 'feature_names'])\n",
      "data[:2]: [[  1.79900000e+01   1.03800000e+01   1.22800000e+02   1.00100000e+03\n",
      "    1.18400000e-01   2.77600000e-01   3.00100000e-01   1.47100000e-01\n",
      "    2.41900000e-01   7.87100000e-02   1.09500000e+00   9.05300000e-01\n",
      "    8.58900000e+00   1.53400000e+02   6.39900000e-03   4.90400000e-02\n",
      "    5.37300000e-02   1.58700000e-02   3.00300000e-02   6.19300000e-03\n",
      "    2.53800000e+01   1.73300000e+01   1.84600000e+02   2.01900000e+03\n",
      "    1.62200000e-01   6.65600000e-01   7.11900000e-01   2.65400000e-01\n",
      "    4.60100000e-01   1.18900000e-01]\n",
      " [  2.05700000e+01   1.77700000e+01   1.32900000e+02   1.32600000e+03\n",
      "    8.47400000e-02   7.86400000e-02   8.69000000e-02   7.01700000e-02\n",
      "    1.81200000e-01   5.66700000e-02   5.43500000e-01   7.33900000e-01\n",
      "    3.39800000e+00   7.40800000e+01   5.22500000e-03   1.30800000e-02\n",
      "    1.86000000e-02   1.34000000e-02   1.38900000e-02   3.53200000e-03\n",
      "    2.49900000e+01   2.34100000e+01   1.58800000e+02   1.95600000e+03\n",
      "    1.23800000e-01   1.86600000e-01   2.41600000e-01   1.86000000e-01\n",
      "    2.75000000e-01   8.90200000e-02]]\n",
      "target_names: ['malignant' 'benign']\n",
      "target[:25]: [0 0 0 0 0 0 0 0 0 0 0 0 0 0 0 0 0 0 0 1 1 1 0 0 0]\n"
     ]
    }
   ],
   "source": [
    "print(\"keys:\", breast_cancer.keys())\n",
    "print(\"data[:2]:\", breast_cancer.data[:2])\n",
    "print(\"target_names:\", breast_cancer.target_names)\n",
    "print(\"target[:25]:\", breast_cancer.target[:25])\n"
   ]
  },
  {
   "cell_type": "code",
   "execution_count": 25,
   "metadata": {
    "collapsed": true
   },
   "outputs": [],
   "source": [
    "# malignant означает \"злокачественный\"\n",
    "# benign - \"доброкачественный\"\n"
   ]
  },
  {
   "cell_type": "markdown",
   "metadata": {},
   "source": [
    "С помощью sklearn.model_selection.cross_val_score c настройками по умолчанию и вызова метода mean() у возвращаемого этой функцией numpy.ndarray, сравним качество работы наивных байесовских классификаторов на этих двух датасетах."
   ]
  },
  {
   "cell_type": "code",
   "execution_count": 27,
   "metadata": {
    "collapsed": true
   },
   "outputs": [],
   "source": [
    "from sklearn.naive_bayes import GaussianNB, BernoulliNB, MultinomialNB\n",
    "from sklearn.model_selection import cross_val_score\n"
   ]
  },
  {
   "cell_type": "code",
   "execution_count": 31,
   "metadata": {
    "collapsed": false
   },
   "outputs": [
    {
     "name": "stdout",
     "output_type": "stream",
     "text": [
      "For digits dataset\n",
      "In Gaussian model: 0.818600380355\n",
      "In Bernoulli model: 0.825823650778\n",
      "In Multinomial model: 0.870877148974\n",
      "\n",
      "For breast_cancer dataset\n",
      "In Gaussian model: 0.936749280609\n",
      "In Bernoulli model: 0.627420402859\n",
      "In Multinomial model: 0.894579040193\n"
     ]
    }
   ],
   "source": [
    "X_d = digits.data\n",
    "y_d = digits.target\n",
    "\n",
    "X_bc = breast_cancer.data\n",
    "y_bc = breast_cancer.target\n",
    "\n",
    "# Создаём Gaussian Classifier\n",
    "model_gaussian = GaussianNB()\n",
    "\n",
    "# Создаём Bernoulli Classifier\n",
    "model_bernoulli = BernoulliNB()\n",
    "\n",
    "# Создаём Multinomial Classifier\n",
    "model_multinomial = MultinomialNB()\n",
    "\n",
    "print(\"For digits dataset\")\n",
    "print(\"In Gaussian model:\", cross_val_score(model_gaussian, X_d, y_d).mean())\n",
    "print(\"In Bernoulli model:\", cross_val_score(model_bernoulli, X_d, y_d).mean())\n",
    "print(\"In Multinomial model:\", cross_val_score(model_multinomial, X_d, y_d).mean())\n",
    "\n",
    "print(\"\")\n",
    "print(\"For breast_cancer dataset\")\n",
    "print(\"In Gaussian model:\", cross_val_score(model_gaussian, X_bc, y_bc).mean())\n",
    "print(\"In Bernoulli model:\", cross_val_score(model_bernoulli, X_bc, y_bc).mean())\n",
    "print(\"In Multinomial model:\", cross_val_score(model_multinomial, X_bc, y_bc).mean())\n"
   ]
  },
  {
   "cell_type": "markdown",
   "metadata": {},
   "source": [
    "#### Ответы на вопросы."
   ]
  },
  {
   "cell_type": "markdown",
   "metadata": {},
   "source": [
    "1) Каким получилось максимальное качество классификации на датасете breast_cancer?\n",
    "\n",
    "    На датасете breast_cancer максимальным оказалось качество в модели Gaussian: 0.936749280609.\n",
    "\n",
    "2) Каким получилось максимальное качество классификации на датасете digits?\n",
    "\n",
    "    На датасете digits максимальным оказалось качество в модели Multinomial: 0.870877148974.\n",
    "\n",
    "3) Какие утверждения из приведенных ниже верны?\n",
    "\n",
    "    (a) На вещественных признаках лучше всего сработал наивный байесовский классификатор с распределением Бернулли.\n",
    "    Ответ: это утверждение неверно.\n",
    "\n",
    "    (b) На вещественных признаках лучше всего сработал наивный байесовский классификатор с мультиномиальным распределением.\n",
    "    Ответ: это утверждение неверно.\n",
    "\n",
    "    (c) Мультиномиальное распределение лучше показало себя на выборке с целыми неотрицательными значениями признаков.\n",
    "    Ответ: это утверждение неверно. Мультиномиальное распределение лучше всего показало себя на выборке с вещественными значениями признаков, но, если рассматривать целые неотрицательные значения признаков, то в этом случае мультиномиальное распределение оказалось лучше остальных.\n",
    "\n",
    "    (d) На вещественных признаках лучше всего сработало нормальное распределение.\n",
    "    Ответ: это утверждение верно.\n"
   ]
  },
  {
   "cell_type": "markdown",
   "metadata": {},
   "source": [
    "##### Вывод:\n",
    "Считается, что модель Bernoulli является наиболее эффективной для бинарных свойств. Ни в одном из рассмотренных случаев бинарных свойств не оказалось, поэтому, как и ожидалось, эта модель не является самой эффективной в данных примерах.\n",
    "\n",
    "Модель Multinomial считается наиболее эффективной для выборки с целочисленными значениями признаков. То есть ожидания оправдались.\n",
    "\n",
    "Модель Gaussian считается наиболее эффективной для выборки с нормально распределёнными вещественными значениями свойств. В рассмотренном примере с вещественными свойствами эта модель оказалась наиболее эффективной."
   ]
  }
 ],
 "metadata": {
  "kernelspec": {
   "display_name": "Python 3",
   "language": "python",
   "name": "python3"
  },
  "language_info": {
   "codemirror_mode": {
    "name": "ipython",
    "version": 3
   },
   "file_extension": ".py",
   "mimetype": "text/x-python",
   "name": "python",
   "nbconvert_exporter": "python",
   "pygments_lexer": "ipython3",
   "version": "3.6.0"
  }
 },
 "nbformat": 4,
 "nbformat_minor": 2
}
