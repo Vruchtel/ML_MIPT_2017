{
 "cells": [
  {
   "cell_type": "markdown",
   "metadata": {},
   "source": [
    "### Вручтель Серафима. 495 группа. Наивный байес и центроидный классификатор."
   ]
  },
  {
   "cell_type": "markdown",
   "metadata": {},
   "source": [
    "Рассмотрим наивный байесовский классификатор. Здесь $a(x) = argmax_y P(y) \\Pi_{k = 1}^n P(x^{(k)}|y)$.\n",
    "\n",
    "По условию задачи $P(x^{(k)}|y) = \\frac{1}{\\sqrt{2 \\pi \\sigma^2}} e^{-\\frac{(x^{(k)}-\\mu_{yk})^2}{2 \\sigma^2}}$. Значит, подставляя в первое равенство, получаем:\n",
    "\n",
    "$a(x) = argmax_y P(y) \\cdot \\Pi_{k = 1}^n \\frac{1}{\\sqrt{2 \\pi \\sigma^2}} e^{-\\frac{(x^{(k)}-\\mu_{yk})^2}{2 \\sigma^2}}$.\n",
    "\n",
    "По условию задачи также классы имеют одинаковые априорные вероятности, т.е. $P(y)$ не зависит от $y$, а, следовательно и $argmax_y$ не зависит от $y$. Кроме того, $argmax_y$ не зависит от $\\frac{1}{\\sqrt{2 \\pi \\sigma^2}}$, то есть\n",
    "\n",
    "$a(x) = argmax_y \\Pi_{k = 1}^n e^{-\\frac{(x^{(k)}-\\mu_{yk})^2}{2 \\sigma^2}} = argmax_y \\exp({-\\frac{\\Sigma_{k = 1}^n (x^{(k)}-\\mu_{yk})^2}{2 \\sigma^2}})$.\n",
    "\n",
    "Экспонента тем больше, чем больше её аргумент. Значит,\n",
    "\n",
    "$a(x) = argmin_y \\frac{\\Sigma_{k = 1}^n (x^{(k)}-\\mu_{yk})^2}{2 \\sigma^2} = argmin_y \\Sigma_{k = 1}^n (x^{(k)}-\\mu_{yk})^2$. Здесь под суммой получаем квадрат евклидового расстояния от $x$ до $\\mu_y$.\n",
    "\n",
    "То есть классификация сводится к отнесению объекта $x$ к классу $y$, центр которого $\\mu_y$ ближе всего расположен к $x$, что и требовалось."
   ]
  }
 ],
 "metadata": {
  "kernelspec": {
   "display_name": "Python 3",
   "language": "python",
   "name": "python3"
  },
  "language_info": {
   "codemirror_mode": {
    "name": "ipython",
    "version": 3
   },
   "file_extension": ".py",
   "mimetype": "text/x-python",
   "name": "python",
   "nbconvert_exporter": "python",
   "pygments_lexer": "ipython3",
   "version": "3.6.0"
  }
 },
 "nbformat": 4,
 "nbformat_minor": 2
}
