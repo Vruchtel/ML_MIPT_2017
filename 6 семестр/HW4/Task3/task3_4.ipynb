{
 "cells": [
  {
   "cell_type": "markdown",
   "metadata": {},
   "source": [
    "## Вручтель Серафима. 495 группа. Kernel trick."
   ]
  },
  {
   "cell_type": "markdown",
   "metadata": {},
   "source": [
    "Необходимо придумать ядро, которое позволит линейному классификатору построить в исходном пространстве признаков разделяющую поверхность $x_1^2 + 2 x_2^2 = 3$, и выяснить, какой будет размерность спрямляющего пространства."
   ]
  },
  {
   "cell_type": "markdown",
   "metadata": {},
   "source": [
    "\n"
   ]
  },
  {
   "cell_type": "markdown",
   "metadata": {},
   "source": [
    "Рассмотрим ядро $K(x, y) = (x, y)^2$.\n",
    "\n",
    "Тогда получим: $K(x, y) = (x, y)^2 = (x_1 y_1 + x_2 y_2)^2 = x_1^2 y_1^2 + x_2^2 y_2^2 + 2 x_1 y_1 x_2 y_2 = <(x_1^2, x_2^2, \\sqrt{2} x_1 x_2), (y_1^2, y_2^2, \\sqrt{2} y_1 y_2)>$ .\n",
    "\n",
    "А так как $K(x, y) = (\\varphi(x), \\varphi(y))$, где $\\varphi(x)$ - функция перехода, получаем\n",
    "\n",
    "$<(x_1^2, x_2^2, \\sqrt{2} x_1 x_2) (w_1, w_2, w_3)> - w_0 = w_1 x_1^2 + w_2 x_2^2 + \\sqrt{2} w_3 x_1 x_2 - w_0$ ."
   ]
  },
  {
   "cell_type": "markdown",
   "metadata": {},
   "source": [
    "Возьмём $w = (1, 2, 0), w_0 = 3$ и получим требуемую разделяемую поверхность."
   ]
  },
  {
   "cell_type": "markdown",
   "metadata": {},
   "source": [
    "Размерность спрямляющего пространства будет равна трём."
   ]
  }
 ],
 "metadata": {
  "kernelspec": {
   "display_name": "Python 3",
   "language": "python",
   "name": "python3"
  },
  "language_info": {
   "codemirror_mode": {
    "name": "ipython",
    "version": 3
   },
   "file_extension": ".py",
   "mimetype": "text/x-python",
   "name": "python",
   "nbconvert_exporter": "python",
   "pygments_lexer": "ipython3",
   "version": "3.6.0"
  }
 },
 "nbformat": 4,
 "nbformat_minor": 2
}
