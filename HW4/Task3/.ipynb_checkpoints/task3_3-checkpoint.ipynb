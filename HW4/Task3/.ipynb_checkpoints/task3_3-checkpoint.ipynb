{
 "cells": [
  {
   "cell_type": "markdown",
   "metadata": {},
   "source": [
    "## Вручтель Серафима. 495 группа. SVM и максимизация разделяющей полосы."
   ]
  },
  {
   "cell_type": "markdown",
   "metadata": {},
   "source": [
    "Необходимо показать, как получается условная оптимизационная задача, решаемая в SVM (методе опорных векторов) из соображения максимизации разделяющей полосы между классами.\n",
    "\n",
    "Также нужно показать, как эта задача сводится к безусловной задаче оптимизации."
   ]
  },
  {
   "cell_type": "markdown",
   "metadata": {},
   "source": [
    " "
   ]
  },
  {
   "cell_type": "markdown",
   "metadata": {},
   "source": [
    "Сначала предположим, что классы линейно резделимы."
   ]
  },
  {
   "cell_type": "markdown",
   "metadata": {},
   "source": [
    "Разделяющая полоса: $M = <x_+ - x_-, \\frac{w}{||w||} > = \\frac{(w, x_+) - (w, x_-)}{||w||} = $\n",
    "\n",
    "Так как $min_i y_i (<w, x_i> - w_0) = 1$ , то получим\n",
    "\n",
    "$ = \\frac{(w_0 + 1) - (w_0 - 1)}{||w||} = \\frac{2}{||w||} $."
   ]
  },
  {
   "cell_type": "markdown",
   "metadata": {},
   "source": [
    "Получаем задачу условной оптимизации:\n",
    "\n",
    "$\\frac{2}{||w||} \\to max \\wedge y_i (<w, x_i> - w_0) \\ge 1, \\ \\forall i$.\n"
   ]
  },
  {
   "cell_type": "markdown",
   "metadata": {},
   "source": [
    "В случае линейной неразделимости выборки введём штрафы $\\xi_i$:\n",
    "\n",
    "$\\frac{1}{2} <w, w> + C \\ \\Sigma_{i = 1}^{l} \\xi_i \\to min_{w, w_0, \\xi}$\n",
    "\n",
    "$y_i (<w, x_i> - w_0) \\ge 1 - \\xi_i, i = 1, ..., l$,\n",
    "\n",
    "$\\xi_i \\ge 0, i = 1, ..., l$"
   ]
  },
  {
   "cell_type": "markdown",
   "metadata": {},
   "source": [
    " "
   ]
  },
  {
   "cell_type": "markdown",
   "metadata": {},
   "source": [
    "Теперь сведём эту задачу к задаче безусловной оптимизации."
   ]
  },
  {
   "cell_type": "markdown",
   "metadata": {},
   "source": [
    "$M_i = y_i (<w, x_i> - w_0)$ - отступ на i-м объекте.\n",
    "\n",
    "Тогда получим $\\xi_i \\ge 0$, $\\xi_i \\ge 1 - M_i$ и $\\Sigma_{i = 1}^{l} \\to min$,\n",
    "\n",
    "откуда следует $\\xi_i = max{0, 1 - M_i} = (1 - M_i)_+$.\n",
    "\n",
    "Получим функцию потерь $Q(w, w_0) = \\Sigma_{i = 1}^{l} (1 - M_i(w, w_0))_+ + \\frac{1}{2C} ||w||^2$,\n",
    "\n",
    "минимизация которой даст требуемую задачу безусловной оптимизации."
   ]
  }
 ],
 "metadata": {
  "kernelspec": {
   "display_name": "Python 3",
   "language": "python",
   "name": "python3"
  },
  "language_info": {
   "codemirror_mode": {
    "name": "ipython",
    "version": 3
   },
   "file_extension": ".py",
   "mimetype": "text/x-python",
   "name": "python",
   "nbconvert_exporter": "python",
   "pygments_lexer": "ipython3",
   "version": "3.6.0"
  }
 },
 "nbformat": 4,
 "nbformat_minor": 2
}
