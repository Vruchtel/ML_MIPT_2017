{
 "cells": [
  {
   "cell_type": "markdown",
   "metadata": {},
   "source": [
    "## Вручтель Серафима. 495 группа. l1-регуляризация."
   ]
  },
  {
   "cell_type": "markdown",
   "metadata": {},
   "source": [
    "Требуется показать с помощью теоремы Куна-Таккера, что ограничение $l_1$-нормы вектора весов числом и добавление штрафа с его $l_1$-нормой приводят к построению одного и того же алгоритма. При этом можно считать, что регуляризатор добавляется по существу, т.е. меняет итоговый ответ по сравнению оптимизационной задачей без регуляризатора."
   ]
  },
  {
   "cell_type": "markdown",
   "metadata": {},
   "source": [
    "Первый способ:\n",
    "\n",
    "$\\Sigma L((<w, x_i> - w_0) y_i) \\to min$, $||w||_{l_1} \\le C$ $\\Rightarrow w_1 w_0 - min$\n",
    "\n",
    "Второй способ:\n",
    "\n",
    "$\\Sigma L((<w, x_i> - w_0) y_i) + \\lambda ||w_1|| \\to min$, $\\lambda \\ge 0$, $\\lambda ||w||_{l_1} = 0$.\n",
    "\n",
    "Получим то же самое."
   ]
  }
 ],
 "metadata": {
  "kernelspec": {
   "display_name": "Python 3",
   "language": "python",
   "name": "python3"
  },
  "language_info": {
   "codemirror_mode": {
    "name": "ipython",
    "version": 3
   },
   "file_extension": ".py",
   "mimetype": "text/x-python",
   "name": "python",
   "nbconvert_exporter": "python",
   "pygments_lexer": "ipython3",
   "version": "3.6.0"
  }
 },
 "nbformat": 4,
 "nbformat_minor": 2
}
