{
 "cells": [
  {
   "cell_type": "markdown",
   "metadata": {},
   "source": [
    "## Вручтель Серафима. 495 группа. Вероятностный смысл регуляризаторов."
   ]
  },
  {
   "cell_type": "markdown",
   "metadata": {},
   "source": [
    "Необходимо показать, что регуляризатор в задаче линейной классификации имеет вероятностный смысл априорного распределения параметров модели.\n",
    "\n",
    "Также нужно выяснить, какие распределения задают $l1$ - регуляризатор и $l2$ - регуляризатор."
   ]
  },
  {
   "cell_type": "markdown",
   "metadata": {},
   "source": [
    "Пусть $p(x, y|w)$ - плотность распределения параметрической модели, $p(w)$ - априорная плотность распределения параметров модели."
   ]
  },
  {
   "cell_type": "markdown",
   "metadata": {},
   "source": [
    "Совместное распределение выборки $X^l$ и модели $w$ по формуле условной вероятности расписывается следующим образом: $p(X^l, w) = p(X^l|w) \\cdot p(w)$.\n",
    "\n",
    "Логарифм функции правдоподобия:\n",
    "\n",
    "$\\ln {p(X^l, w)} = \\Sigma_{i = 1}^{l} \\ln{p(x_i, y_i|w)} + \\ln{p(w)} \\to max_w$"
   ]
  },
  {
   "cell_type": "markdown",
   "metadata": {},
   "source": [
    "Первое слагаемое - логарифм правдоподобия для исходной модели, второе - логарифм априорного распределения параметров модели. Откуда видно, что второе слагаемое имеет смысл регуляризатора."
   ]
  },
  {
   "cell_type": "markdown",
   "metadata": {},
   "source": [
    " "
   ]
  },
  {
   "cell_type": "markdown",
   "metadata": {},
   "source": [
    "Пусть вектор $w \\in \\mathbb{R}^n$ имеет нормальное распределение, все его компоненты независимы и имеют равные дисперсии $\\sigma$, тогда получим:\n",
    "\n",
    "$\\ln {p(w)} = \\ln {\\frac{1}{(2 \\pi \\sigma)^{n / 2}} \\exp {-\\frac{||w||^2}{2 \\sigma}} } = -\\frac{1}{2 \\sigma} ||w||^2 + const$.\n",
    "\n",
    "Получили $l2$ регуляризатор."
   ]
  },
  {
   "cell_type": "markdown",
   "metadata": {},
   "source": [
    " "
   ]
  },
  {
   "cell_type": "markdown",
   "metadata": {},
   "source": [
    "Покажем, что $l2$ регуляризатор соответствует распределению Лапласа: $p(w) = \\frac{1}{(2C)^n} \\exp \\left(-\\frac{||w||_1}{C} \\right)$, где $C$ - некоторая константа, $||w||_1 = \\Sigma_{j = 1}^n |w_j|$.\n",
    "\n",
    "Прологарифмируем:\n",
    "\n",
    "$\\ln p(w) = -\\frac{1}{C} ||w||_1 + const$, что и требовалось."
   ]
  }
 ],
 "metadata": {
  "kernelspec": {
   "display_name": "Python 3",
   "language": "python",
   "name": "python3"
  },
  "language_info": {
   "codemirror_mode": {
    "name": "ipython",
    "version": 3
   },
   "file_extension": ".py",
   "mimetype": "text/x-python",
   "name": "python",
   "nbconvert_exporter": "python",
   "pygments_lexer": "ipython3",
   "version": "3.6.0"
  }
 },
 "nbformat": 4,
 "nbformat_minor": 2
}
