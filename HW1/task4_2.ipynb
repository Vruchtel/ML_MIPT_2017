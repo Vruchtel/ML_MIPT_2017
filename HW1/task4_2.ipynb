{
 "cells": [
  {
   "cell_type": "markdown",
   "metadata": {},
   "source": [
    "### Вручтель Серафима. 495 группа. ROC-AUC случайных ответов."
   ]
  },
  {
   "cell_type": "markdown",
   "metadata": {},
   "source": [
    "$ROC-AUC$ - площадь под кривой в координатах $FPR$-$TPR$.\n",
    "\n",
    "$FPR = \\frac{False-positives}{False-positives + True-negatives}$, $TPR = \\frac{True-positives}{True-positives + False-negatives}$.\n",
    "\n",
    "По условию задачи ответы классификатора являются случайными. Классификатор отвечает \"YES\" с вероятностью $p$ и \"NO\" с вероятностью $1 - p$.\n",
    "\n",
    "Пусть всего $n$ элементов, а $m$ - количество угаданных элементов.\n",
    "\n",
    "Тогда получаем (считаем, что все величины уже отнормированны): \n",
    "$E(True-positives) = p \\cdot m$,\n",
    "$E(False-positives) = p \\cdot (n - m)$,\n",
    "$E(True-negatives) = (1 - p) \\cdot (n - m)$,\n",
    "$E(False-negatives) = (1 - p) \\cdot m.\n",
    "\n",
    "Откуда $FPR = \\frac{p(n - m)}{p(n - m) + (1 - p)(n - m)} = \\frac{p}{1} = p$, $TPR = \\frac{pm}{pm + (1 - p)m} = p$.\n",
    "\n",
    "Получаем, что в среднем кривая $ROC$ - прямая, которая из точки $(0, 0)$ идёт в точку $(1, 1)$. Тогда площать под графиком - половина площади квадрата и $ROC-AUC = 0.5$, что и требовалось."
   ]
  }
 ],
 "metadata": {
  "kernelspec": {
   "display_name": "Python 3",
   "language": "python",
   "name": "python3"
  },
  "language_info": {
   "codemirror_mode": {
    "name": "ipython",
    "version": 3
   },
   "file_extension": ".py",
   "mimetype": "text/x-python",
   "name": "python",
   "nbconvert_exporter": "python",
   "pygments_lexer": "ipython3",
   "version": "3.6.0"
  }
 },
 "nbformat": 4,
 "nbformat_minor": 2
}
