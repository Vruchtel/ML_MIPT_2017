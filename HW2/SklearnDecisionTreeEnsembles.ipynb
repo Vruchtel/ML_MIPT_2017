{
 "cells": [
  {
   "cell_type": "code",
   "execution_count": 1,
   "metadata": {
    "collapsed": false
   },
   "outputs": [],
   "source": [
    "from sklearn.tree import DecisionTreeRegressor, DecisionTreeClassifier\n",
    "from sklearn.model_selection import cross_val_score\n",
    "from sklearn.base import BaseEstimator\n",
    "from sklearn.datasets import make_regression, make_classification\n",
    "\n",
    "import numpy as np\n",
    "import matplotlib.pyplot as plt\n",
    "%matplotlib inline\n"
   ]
  },
  {
   "cell_type": "code",
   "execution_count": 9,
   "metadata": {
    "collapsed": false
   },
   "outputs": [],
   "source": [
    "# Возвращает матрицу из элементов X полученных с помощью выбора с возвращением\n",
    "# а также ответы y на этой выборке\n",
    "# размер итоговых матрицы и столбца такой же, как и изначальных\n",
    "def bootstrap(X, y):\n",
    "    X = np.array(X)\n",
    "    y = np.array(y)\n",
    "    mask = np.random.choice(len(X), size=len(X), replace=True)  # replace = true выборка с возвращением\n",
    "    #print(mask)\n",
    "    X = X[mask]\n",
    "    y = y[mask]\n",
    "    return X, y\n",
    "\n",
    "# Из входной матрицы свойств создаёт матрицу части свойств выбранной рандомно\n",
    "# p - доля оставшихся свойств\n",
    "def random_subspace_method(X, p=1.0):\n",
    "    X = np.array(X)\n",
    "    count_columns = X.shape[1]  # количество столбцов в матрице (количество свойств)\n",
    "    # номера столцбов, которые должны быть выбраны\n",
    "    mask = np.random.choice(count_columns, size=round(p * count_columns), replace=False)\n",
    "    #print(mask)\n",
    "    # Оставляем только выбранные столбцы из X\n",
    "    X = X[:, mask]\n",
    "    return X\n"
   ]
  },
  {
   "cell_type": "code",
   "execution_count": 3,
   "metadata": {
    "collapsed": false
   },
   "outputs": [
    {
     "name": "stdout",
     "output_type": "stream",
     "text": [
      "(4, 4)\n",
      "[2 2 2 2]\n",
      "(array([[-1, -2, -3, -4],\n",
      "       [-1, -2, -3, -4],\n",
      "       [-1, -2, -3, -4],\n",
      "       [-1, -2, -3, -4]]), array([0, 0, 0, 0]))\n"
     ]
    }
   ],
   "source": [
    "# Блок тестов\n",
    "X = np.array([[1, 2, 3, 4],\n",
    "             [5, 6, 7, 8],\n",
    "             [-1, -2, -3, -4],\n",
    "             [-5, -6, -7, -8]])\n",
    "y = [1, 0, 0, 1]\n",
    "print(X.shape)\n",
    "\n",
    "arr = bootstrap(X, y)\n",
    "print(arr)\n"
   ]
  },
  {
   "cell_type": "code",
   "execution_count": 4,
   "metadata": {
    "collapsed": false
   },
   "outputs": [
    {
     "name": "stdout",
     "output_type": "stream",
     "text": [
      "[3 0]\n"
     ]
    },
    {
     "data": {
      "text/plain": [
       "array([[ 4,  1],\n",
       "       [ 8,  5],\n",
       "       [-4, -1],\n",
       "       [-8, -5]])"
      ]
     },
     "execution_count": 4,
     "metadata": {},
     "output_type": "execute_result"
    }
   ],
   "source": [
    "# Блок тестов\n",
    "random_subspace_method(X, 0.5)\n"
   ]
  },
  {
   "cell_type": "code",
   "execution_count": 5,
   "metadata": {
    "collapsed": false
   },
   "outputs": [
    {
     "name": "stdout",
     "output_type": "stream",
     "text": [
      "[3 0 1 2]\n",
      "[1 3 2 0]\n",
      "[2 3 3 1]\n",
      "[3 2 3 0]\n",
      "[0 3 1 2]\n",
      "[2 3 1 0]\n",
      "[0 1]\n",
      "[1 2 3 0]\n"
     ]
    }
   ],
   "source": [
    "X = np.arange(16).reshape(4, 4)\n",
    "y = np.arange(4)\n",
    "\n",
    "assert type(bootstrap(X, y)[0]) == np.ndarray, \"wrong return type of X\"\n",
    "assert type(bootstrap(X, y)[1]) == np.ndarray, \"wrong return type of y\"\n",
    "assert bootstrap(X, y)[0].shape == X.shape, \"wrong shape of X\"\n",
    "assert bootstrap(X, y)[1].shape == y.shape, \"wrong shape of y\"\n",
    "\n",
    "assert type(random_subspace_method(X)) == np.ndarray, \"wrong return type\"\n",
    "assert random_subspace_method(X).shape == X.shape, \"wrong size\"\n",
    "assert random_subspace_method(X, p=0.5).shape == (4, 2), \"wrong size\"\n",
    "assert np.all(np.unique(random_subspace_method(X)) == np.unique(X)), \"duplicating features (or smth even worse)\""
   ]
  },
  {
   "cell_type": "code",
   "execution_count": 53,
   "metadata": {
    "collapsed": false
   },
   "outputs": [],
   "source": [
    "class BrandNewRandomForestClassifier(BaseEstimator):\n",
    "    def __init__(self, num_iterations=100, max_depth=6, p=1.0):\n",
    "        self.num_iterations = num_iterations\n",
    "        self.max_depth = max_depth\n",
    "        self.p = p\n",
    "        \n",
    "    def fit(self, X, y):\n",
    "        self.estimators = []\n",
    "        for iter_num in range(self.num_iterations):\n",
    "            \n",
    "            # IT IS BEGIN OF MY CODE\n",
    "            X_iter, y_iter = bootstrap(X, y)\n",
    "            \n",
    "            new_estimator = DecisionTreeClassifier(max_depth=self.max_depth)\n",
    "            X_random = random_subspace_method(X_iter, self.p)\n",
    "            new_estimator.fit(X_random, y_iter)\n",
    "            \n",
    "            # END OF MY CODE\n",
    "            \n",
    "            self.estimators.append(new_estimator)\n",
    "            \n",
    "    def predict_proba(self, X):\n",
    "        probas = []\n",
    "        \n",
    "        for estimator in self.estimators:\n",
    "            probas.append(estimator.predict_proba(X))\n",
    "        \n",
    "        return np.dstack(probas).mean(axis=2)"
   ]
  },
  {
   "cell_type": "code",
   "execution_count": 19,
   "metadata": {
    "collapsed": false
   },
   "outputs": [
    {
     "data": {
      "text/plain": [
       "-6.2079500056212025"
      ]
     },
     "execution_count": 19,
     "metadata": {},
     "output_type": "execute_result"
    }
   ],
   "source": [
    "from sklearn.datasets import make_classification\n",
    "\n",
    "X, y = make_classification()\n",
    "np.mean(cross_val_score(DecisionTreeClassifier(max_depth=6), X, y, cv=3, scoring='neg_log_loss'))"
   ]
  },
  {
   "cell_type": "code",
   "execution_count": 54,
   "metadata": {
    "collapsed": false
   },
   "outputs": [
    {
     "data": {
      "text/plain": [
       "-0.74828530289311956"
      ]
     },
     "execution_count": 54,
     "metadata": {},
     "output_type": "execute_result"
    }
   ],
   "source": [
    "np.mean(cross_val_score(BrandNewRandomForestClassifier(max_depth=6), X, y, cv=3, scoring='neg_log_loss'))"
   ]
  },
  {
   "cell_type": "code",
   "execution_count": 70,
   "metadata": {
    "collapsed": false
   },
   "outputs": [
    {
     "data": {
      "image/png": "[encoded data removed]",
      "text/plain": [
       "<matplotlib.figure.Figure at 0x7f1d9de102b0>"
      ]
     },
     "metadata": {},
     "output_type": "display_data"
    }
   ],
   "source": [
    "scores = []\n",
    "\n",
    "all_iterations = np.array([1])\n",
    "all_iterations = np.append(all_iterations, np.arange(5, 100, 10))\n",
    "\n",
    "for iterations in all_iterations:\n",
    "    algo = BrandNewRandomForestClassifier(num_iterations=iterations)\n",
    "    scores.append(cross_val_score(algo, X, y, cv=3, scoring='neg_log_loss').mean())\n",
    "plt.plot(scores)\n",
    "\n",
    "_ = plt.xticks(np.arange(10), all_iterations)"
   ]
  },
  {
   "cell_type": "code",
   "execution_count": 127,
   "metadata": {
    "collapsed": true
   },
   "outputs": [],
   "source": [
    "class SimpleGBRegressor(BaseEstimator):\n",
    "    def __init__(self, num_iterations=100, learning_rate=1e-1, max_depth=6):\n",
    "        self.num_iterations = num_iterations\n",
    "        self.learning_rate = learning_rate\n",
    "        self.max_depth = max_depth\n",
    "        \n",
    "    def fit(self, X, y):\n",
    "        self.estimators = []\n",
    "        curr_pred = np.zeros(y.shape)\n",
    "        for iter_num in range(self.num_iterations):\n",
    "            \n",
    "            new_estimator = DecisionTreeRegressor(max_depth=self.max_depth)\n",
    "            new_estimator.fit(X, y)\n",
    "            self.estimators.append(new_estimator)         \n",
    "            \n",
    "            curr_pred = new_estimator.predict(X)\n",
    "            y -= curr_pred\n",
    "            \n",
    "    \n",
    "    def predict(self, X):\n",
    "        res = np.zeros(X.shape[0])\n",
    "        for estimator in self.estimators:\n",
    "            res += self.learning_rate * estimator.predict(X)\n",
    "        return res"
   ]
  },
  {
   "cell_type": "code",
   "execution_count": 73,
   "metadata": {
    "collapsed": false
   },
   "outputs": [
    {
     "data": {
      "text/plain": [
       "-19028.663783906373"
      ]
     },
     "execution_count": 73,
     "metadata": {},
     "output_type": "execute_result"
    }
   ],
   "source": [
    "X_data, y_data = make_regression(n_samples=1000, noise=100, n_features=10, random_state=42)\n",
    "np.mean(cross_val_score(DecisionTreeRegressor(max_depth=6), X_data, y_data, cv=3, scoring='neg_mean_squared_error'))"
   ]
  },
  {
   "cell_type": "code",
   "execution_count": 128,
   "metadata": {
    "collapsed": false
   },
   "outputs": [
    {
     "data": {
      "text/plain": [
       "-22996.092362113533"
      ]
     },
     "execution_count": 128,
     "metadata": {},
     "output_type": "execute_result"
    }
   ],
   "source": [
    "algo = SimpleGBRegressor(num_iterations=50, learning_rate = 0.1, max_depth=6)\n",
    "np.mean(cross_val_score(algo, X_data, y_data, cv=3, scoring='neg_mean_squared_error'))"
   ]
  },
  {
   "cell_type": "code",
   "execution_count": 129,
   "metadata": {
    "collapsed": false
   },
   "outputs": [
    {
     "data": {
      "text/plain": [
       "[<matplotlib.lines.Line2D at 0x7f1d9d6ddb38>]"
      ]
     },
     "execution_count": 129,
     "metadata": {},
     "output_type": "execute_result"
    },
    {
     "data": {
      "image/png": "[encoded data removed]",
      "text/plain": [
       "<matplotlib.figure.Figure at 0x7f1d9de3a358>"
      ]
     },
     "metadata": {},
     "output_type": "display_data"
    }
   ],
   "source": [
    "scores = []\n",
    "for iterations in range(30):\n",
    "    algo = SimpleGBRegressor(num_iterations=iterations, learning_rate=0.2)\n",
    "    scores.append(cross_val_score(algo, X_data, y_data, cv=3, scoring='neg_mean_squared_error').mean())\n",
    "plt.plot(scores)"
   ]
  }
 ],
 "metadata": {
  "kernelspec": {
   "display_name": "Python 3",
   "language": "python",
   "name": "python3"
  },
  "language_info": {
   "codemirror_mode": {
    "name": "ipython",
    "version": 3
   },
   "file_extension": ".py",
   "mimetype": "text/x-python",
   "name": "python",
   "nbconvert_exporter": "python",
   "pygments_lexer": "ipython3",
   "version": "3.6.0"
  }
 },
 "nbformat": 4,
 "nbformat_minor": 0
}
