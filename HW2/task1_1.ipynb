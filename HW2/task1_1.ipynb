{
 "cells": [
  {
   "cell_type": "markdown",
   "metadata": {},
   "source": [
    "### Вручтель Серафима. 495. Ответы в листьях регрессионного дерева."
   ]
  },
  {
   "cell_type": "markdown",
   "metadata": {},
   "source": [
    "Рассмотрим первую стратегию. Отвечаем средним значением таргета на объектах обучающей выборки.\n",
    "\n",
    "$E(t_{реальн} - t_{средн})^2 = (t_{реальн} - \\frac{1}{n} \\Sigma_{i = 1}^{n}t_i)^2 = \\left(\\frac{\\Sigma_{i = 1}^{n}(t_{реальн} - t_i)}{n}\\right)^2 \\le \\frac{\\Sigma_{i = 1}^{n} (t_{реальн} - t_i)^2}{n} = \\frac{1}{n} \\Sigma_{i = 1}^{n}(t_{реальн} - t_i)^2 = E(t_{реальн} - t_{рандомн})^2$.\n",
    "\n",
    "Получили, что мат. ожидание ошибки MSE согласно второй стратегии, по которой выдаётся случайный таргет из листа, больше или равно мат. ожиданию ошибки при использовании второй стратегии. \n",
    "\n",
    "То есть ***первая стратегия приводит к меньшему мат. ожиданию ошибки по MSE***."
   ]
  }
 ],
 "metadata": {
  "kernelspec": {
   "display_name": "Python 3",
   "language": "python",
   "name": "python3"
  },
  "language_info": {
   "codemirror_mode": {
    "name": "ipython",
    "version": 3
   },
   "file_extension": ".py",
   "mimetype": "text/x-python",
   "name": "python",
   "nbconvert_exporter": "python",
   "pygments_lexer": "ipython3",
   "version": "3.6.0"
  }
 },
 "nbformat": 4,
 "nbformat_minor": 2
}
